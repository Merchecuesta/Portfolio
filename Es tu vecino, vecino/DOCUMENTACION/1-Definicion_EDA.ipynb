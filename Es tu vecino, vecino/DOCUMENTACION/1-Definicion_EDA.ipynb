{
 "cells": [
  {
   "cell_type": "markdown",
   "metadata": {},
   "source": [
    "![imagen](./img/ejercicios.png)"
   ]
  },
  {
   "cell_type": "markdown",
   "metadata": {},
   "source": [
    "# INFORMACIÓN DEL PROYECTO"
   ]
  },
  {
   "cell_type": "markdown",
   "metadata": {},
   "source": [
    "### TÍTULO"
   ]
  },
  {
   "cell_type": "markdown",
   "metadata": {},
   "source": [
    "# **¿Y tu vecino, es vecino?**\n"
   ]
  },
  {
   "cell_type": "markdown",
   "metadata": {},
   "source": [
    "### TEMA"
   ]
  },
  {
   "cell_type": "markdown",
   "metadata": {},
   "source": [
    "## Introducción\n",
    "\n",
    "Este proyecto, **¿Y tu vecino, es vecino?**, busca revelar la verdadera composición migratoria de las provincias españolas entre 2006 y 2022. Analizaremos qué proporción de la población es realmente “local”, cuántos han migrado desde otras provincias dentro de España, y cuántos proceden del extranjero.\n",
    "\n",
    "Con este análisis queremos romper mitos sobre la “pureza” local, reflexionar sobre la extranjerofobia —nacional e internacional—, y mostrar cómo la diversidad, tanto interna como externa, es el verdadero tejido que sostiene nuestras ciudades y pueblos.\n",
    "\n"
   ]
  },
  {
   "cell_type": "markdown",
   "metadata": {},
   "source": [
    "## Hipótesis del Proyecto\n",
    "\n",
    "### Hipótesis principal\n",
    "\n",
    "1. **En la mayoría de las provincias españolas, el porcentaje de población \"local\" (aquella nacida en la misma provincia en la que reside) ha disminuido en las últimas décadas, dando paso a un crecimiento tanto de la migración interna como de la internacional.**  \n",
    "\n",
    "---\n",
    "\n",
    "### Hipótesis secundarias\n",
    "\n",
    "2. **Las provincias con menor porcentaje de población local suelen coincidir con áreas urbanas o costeras con alta movilidad laboral o turística.**\n",
    "\n",
    "3. **Las provincias crecen gracias a la migración y no a los locales.** \n",
    "\n",
    "4. **La percepción negativa hacia los migrantes suele estar desconectada de la realidad demográfica, donde la diversidad es una constante más que una excepción.**\n",
    "5. **Los extranjeros que prefieren España para vivir no son nuestros vecinos de Europa**\n",
    "\n",
    "\n"
   ]
  },
  {
   "cell_type": "markdown",
   "metadata": {},
   "source": [
    "## OBTENCIÓN DE LOS DATOS"
   ]
  },
  {
   "cell_type": "markdown",
   "metadata": {},
   "source": [
    "### DATASETS Y FUENTES ALTERNATIVAS DE DATOS"
   ]
  },
  {
   "cell_type": "markdown",
   "metadata": {},
   "source": [
    "Incluye aquí una vista del dataset o datasets de los que partirás para poder evaluar tu hipótesis. <br>\n",
    "También incluye el origen de estos datos y su fuente."
   ]
  },
  {
   "cell_type": "code",
   "execution_count": 8,
   "metadata": {},
   "outputs": [
    {
     "name": "stdout",
     "output_type": "stream",
     "text": [
      "Index(['Total Nacional', 'Comunidades y Ciudades Autónomas', 'Provincias',\n",
      "       'Relacion entre lugar de nacimiento y residencia',\n",
      "       'Edad (grupos quinquenales)', 'Sexo', 'Periodo', 'Total'],\n",
      "      dtype='object')\n",
      "Index(['Total Nacional', 'Comunidades y Ciudades Autónomas', 'Provincias',\n",
      "       'País de nacionalidad', 'Edad (hasta 100 y más)', 'Sexo', 'Periodo',\n",
      "       'Total'],\n",
      "      dtype='object')\n",
      "Index(['Total Nacional', 'Comunidades y Ciudades Autónomas', 'Provincias',\n",
      "       'País de nacionalidad', 'Edad (hasta 100 y más)', 'Sexo', 'Periodo',\n",
      "       'Total'],\n",
      "      dtype='object')\n",
      "Index(['Total Nacional', 'Comunidades y Ciudades Autónomas', 'Provincias',\n",
      "       'País de nacionalidad', 'Edad (hasta 100 y más)', 'Sexo', 'Periodo',\n",
      "       'Total'],\n",
      "      dtype='object')\n",
      "Index(['Total Nacional', 'Comunidades y Ciudades Autónomas', 'Provincias',\n",
      "       'País de nacionalidad', 'Edad (hasta 100 y más)', 'Sexo', 'Periodo',\n",
      "       'Total'],\n",
      "      dtype='object')\n",
      "Index(['Total Nacional', 'Comunidades y Ciudades Autónomas', 'Provincias',\n",
      "       'País de nacionalidad', 'Edad (hasta 100 y más)', 'Sexo', 'Periodo',\n",
      "       'Total'],\n",
      "      dtype='object')\n",
      "Index(['Sexo', 'Comunidades y ciudades autónomas de destino',\n",
      "       'Comunidades y ciudades autónomas de origen', 'Periodo', 'Total'],\n",
      "      dtype='object')\n"
     ]
    }
   ],
   "source": [
    "import pandas as pd\n",
    "#Data Set 1\n",
    "ruta_csv = r'..\\Datasets\\36683.csv'\n",
    "df_ine = pd.read_csv(ruta_csv, sep=';', encoding='latin1')\n",
    "fuente_ine = \"https://www.ine.es/jaxiT3/Tabla.htm?t=36683&L=0\"\n",
    "print(df_ine.columns)\n",
    "\n",
    "#Data Set 2\n",
    "ruta_csv = r'..\\Datasets\\36825.csv'\n",
    "df_extr = pd.read_csv(ruta_csv, sep=';', encoding='latin1')\n",
    "fuente_ine = \"https://www.ine.es/jaxiT3/Datos.htm?t=36825\"\n",
    "print(df_extr.columns)\n",
    "\n",
    "#Data Set 3\n",
    "ruta_csv = r'..\\Datasets\\36826.csv'\n",
    "df_extr1 = pd.read_csv(ruta_csv, sep=';', encoding='latin1')\n",
    "fuente_ine = \"https://www.ine.es/jaxiT3/Datos.htm?t=36825\"\n",
    "print(df_extr1.columns)\n",
    "\n",
    "#Data Set 4\n",
    "ruta_csv = r'..\\Datasets\\36827.csv'\n",
    "df_extr2 = pd.read_csv(ruta_csv, sep=';', encoding='latin1')\n",
    "fuente_ine = \"https://www.ine.es/jaxiT3/Datos.htm?t=36825\"\n",
    "print(df_extr2.columns)\n",
    "\n",
    "#Data Set 5\n",
    "ruta_csv = r'..\\Datasets\\36828.csv'\n",
    "df_extr3 = pd.read_csv(ruta_csv, sep=';', encoding='latin1')\n",
    "fuente_ine = \"https://www.ine.es/jaxiT3/Datos.htm?t=36825\"\n",
    "print(df_extr3.columns)\n",
    "\n",
    "#Data Set 6\n",
    "ruta_csv = r'..\\Datasets\\36829.csv'\n",
    "df_extr4 = pd.read_csv(ruta_csv, sep=';', encoding='latin1')\n",
    "fuente_ine = \"https://www.ine.es/jaxiT3/Datos.htm?t=36825\"\n",
    "print(df_extr4.columns)\n",
    "\n",
    "#Data Set 7\n",
    "\n",
    "ruta_csv = r'..\\Datasets\\24369.csv'\n",
    "df_mig = pd.read_csv(ruta_csv, sep=';', encoding='latin1')\n",
    "fuente_ine = \"https://www.ine.es/jaxiT3/Tabla.htm?L=0&t=24369\"\n",
    "print(df_mig.columns)\n"
   ]
  },
  {
   "cell_type": "markdown",
   "metadata": {},
   "source": [
    "Muestra mediante un head() los principales datasets con los que vas a trabajar"
   ]
  },
  {
   "cell_type": "code",
   "execution_count": 7,
   "metadata": {},
   "outputs": [
    {
     "name": "stdout",
     "output_type": "stream",
     "text": [
      "   Total Nacional Comunidades y Ciudades Autónomas      Provincias  \\\n",
      "0  Total Nacional                    16 País Vasco  01 Araba/Álava   \n",
      "1  Total Nacional                    16 País Vasco  01 Araba/Álava   \n",
      "2  Total Nacional                    16 País Vasco  01 Araba/Álava   \n",
      "3  Total Nacional                    16 País Vasco  01 Araba/Álava   \n",
      "4  Total Nacional                    16 País Vasco  01 Araba/Álava   \n",
      "5  Total Nacional                    16 País Vasco  01 Araba/Álava   \n",
      "6  Total Nacional                    16 País Vasco  01 Araba/Álava   \n",
      "7  Total Nacional                    16 País Vasco  01 Araba/Álava   \n",
      "8  Total Nacional                    16 País Vasco  01 Araba/Álava   \n",
      "9  Total Nacional                    16 País Vasco  01 Araba/Álava   \n",
      "\n",
      "  Relacion entre lugar de nacimiento y residencia Edad (grupos quinquenales)  \\\n",
      "0                                       En España           Todas las edades   \n",
      "1                                       En España           Todas las edades   \n",
      "2                                       En España           Todas las edades   \n",
      "3                                       En España           Todas las edades   \n",
      "4                                       En España           Todas las edades   \n",
      "5      Misma Comunidad Autónoma. Misma Provincia.           Todas las edades   \n",
      "6      Misma Comunidad Autónoma. Misma Provincia.           Todas las edades   \n",
      "7      Misma Comunidad Autónoma. Misma Provincia.           Todas las edades   \n",
      "8      Misma Comunidad Autónoma. Misma Provincia.           Todas las edades   \n",
      "9      Misma Comunidad Autónoma. Misma Provincia.           Todas las edades   \n",
      "\n",
      "    Sexo             Periodo    Total  \n",
      "0  Total  1 de enero de 2022  289.324  \n",
      "1  Total  1 de enero de 2018  291.487  \n",
      "2  Total  1 de enero de 2014  288.481  \n",
      "3  Total  1 de enero de 2010  285.108  \n",
      "4  Total  1 de enero de 2006  282.209  \n",
      "5  Total  1 de enero de 2022  182.224  \n",
      "6  Total  1 de enero de 2018  180.975  \n",
      "7  Total  1 de enero de 2014  176.610  \n",
      "8  Total  1 de enero de 2010  171.678  \n",
      "9  Total  1 de enero de 2006  166.656  \n",
      "   Total Nacional Comunidades y Ciudades Autónomas Provincias  \\\n",
      "0  Total Nacional                              NaN        NaN   \n",
      "1  Total Nacional                              NaN        NaN   \n",
      "2  Total Nacional                              NaN        NaN   \n",
      "3  Total Nacional                              NaN        NaN   \n",
      "4  Total Nacional                              NaN        NaN   \n",
      "5  Total Nacional                              NaN        NaN   \n",
      "6  Total Nacional                              NaN        NaN   \n",
      "7  Total Nacional                              NaN        NaN   \n",
      "8  Total Nacional                              NaN        NaN   \n",
      "9  Total Nacional                              NaN        NaN   \n",
      "\n",
      "  País de nacionalidad Edad (hasta 100 y más)   Sexo             Periodo  \\\n",
      "0           Extranjera       Todas las edades  Total  1 de enero de 2006   \n",
      "1  Europa (sin España)       Todas las edades  Total  1 de enero de 2006   \n",
      "2             Alemania       Todas las edades  Total  1 de enero de 2006   \n",
      "3              Austria       Todas las edades  Total  1 de enero de 2006   \n",
      "4              Bélgica       Todas las edades  Total  1 de enero de 2006   \n",
      "5             Bulgaria       Todas las edades  Total  1 de enero de 2006   \n",
      "6               Chipre       Todas las edades  Total  1 de enero de 2006   \n",
      "7              Croacia       Todas las edades  Total  1 de enero de 2006   \n",
      "8            Dinamarca       Todas las edades  Total  1 de enero de 2006   \n",
      "9            Eslovenia       Todas las edades  Total  1 de enero de 2006   \n",
      "\n",
      "       Total  \n",
      "0  4.144.166  \n",
      "1  1.609.856  \n",
      "2    150.490  \n",
      "3      7.776  \n",
      "4     29.526  \n",
      "5    101.617  \n",
      "6        132  \n",
      "7      1.788  \n",
      "8      9.977  \n",
      "9        619  \n"
     ]
    }
   ],
   "source": [
    "print(df_ine.head(10))\n",
    "\n",
    "print(df_extr.head(10))"
   ]
  }
 ],
 "metadata": {
  "kernelspec": {
   "display_name": "Python 3",
   "language": "python",
   "name": "python3"
  },
  "language_info": {
   "codemirror_mode": {
    "name": "ipython",
    "version": 3
   },
   "file_extension": ".py",
   "mimetype": "text/x-python",
   "name": "python",
   "nbconvert_exporter": "python",
   "pygments_lexer": "ipython3",
   "version": "3.13.5"
  },
  "orig_nbformat": 4
 },
 "nbformat": 4,
 "nbformat_minor": 2
}
