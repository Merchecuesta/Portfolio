{
 "cells": [
  {
   "cell_type": "markdown",
   "id": "7a661c57",
   "metadata": {},
   "source": [
    "Importamos las librerías necesarias para el proyecto "
   ]
  },
  {
   "cell_type": "code",
   "execution_count": 106,
   "id": "541dee22",
   "metadata": {},
   "outputs": [],
   "source": [
    "import pandas as pd\n",
    "import numpy as np\n",
    "import matplotlib.pyplot as plt\n",
    "import seaborn as sns"
   ]
  },
  {
   "cell_type": "markdown",
   "id": "e7ec81d6",
   "metadata": {},
   "source": [
    "## Exploración y limpieza de datos "
   ]
  },
  {
   "cell_type": "markdown",
   "id": "cc91de0c",
   "metadata": {},
   "source": [
    "* Exploración"
   ]
  },
  {
   "cell_type": "markdown",
   "id": "086780d6",
   "metadata": {},
   "source": [
    "Convertimos el primer archivo a usar en nuestro EDA en DataFrame. \n",
    "\n",
    "Se trata de la tabla de empadronados por provincia con la relación entre su lugar de nacimiento y la residencia actual\n"
   ]
  },
  {
   "cell_type": "code",
   "execution_count": 107,
   "id": "53b0c7c3",
   "metadata": {},
   "outputs": [],
   "source": [
    "df = pd.read_csv(\"./Datasets/36683.csv\", sep=\";\", encoding=\"latin1\")"
   ]
  },
  {
   "cell_type": "markdown",
   "id": "67027c4b",
   "metadata": {},
   "source": [
    "Previsualizamos los datos para ver como se encuentran distribuidos y que nos encontramos dentro "
   ]
  },
  {
   "cell_type": "code",
   "execution_count": 108,
   "id": "f9f488c7",
   "metadata": {},
   "outputs": [
    {
     "name": "stdout",
     "output_type": "stream",
     "text": [
      "<class 'pandas.core.frame.DataFrame'>\n",
      "RangeIndex: 1800 entries, 0 to 1799\n",
      "Data columns (total 8 columns):\n",
      " #   Column                                           Non-Null Count  Dtype \n",
      "---  ------                                           --------------  ----- \n",
      " 0   Total Nacional                                   1800 non-null   object\n",
      " 1   Comunidades y Ciudades Autónomas                 1775 non-null   object\n",
      " 2   Provincias                                       1300 non-null   object\n",
      " 3   Relacion entre lugar de nacimiento y residencia  1800 non-null   object\n",
      " 4   Edad (grupos quinquenales)                       1800 non-null   object\n",
      " 5   Sexo                                             1800 non-null   object\n",
      " 6   Periodo                                          1800 non-null   object\n",
      " 7   Total                                            1800 non-null   object\n",
      "dtypes: object(8)\n",
      "memory usage: 112.6+ KB\n"
     ]
    },
    {
     "data": {
      "text/html": [
       "<div>\n",
       "<style scoped>\n",
       "    .dataframe tbody tr th:only-of-type {\n",
       "        vertical-align: middle;\n",
       "    }\n",
       "\n",
       "    .dataframe tbody tr th {\n",
       "        vertical-align: top;\n",
       "    }\n",
       "\n",
       "    .dataframe thead th {\n",
       "        text-align: right;\n",
       "    }\n",
       "</style>\n",
       "<table border=\"1\" class=\"dataframe\">\n",
       "  <thead>\n",
       "    <tr style=\"text-align: right;\">\n",
       "      <th></th>\n",
       "      <th>Total Nacional</th>\n",
       "      <th>Comunidades y Ciudades Autónomas</th>\n",
       "      <th>Provincias</th>\n",
       "      <th>Relacion entre lugar de nacimiento y residencia</th>\n",
       "      <th>Edad (grupos quinquenales)</th>\n",
       "      <th>Sexo</th>\n",
       "      <th>Periodo</th>\n",
       "      <th>Total</th>\n",
       "    </tr>\n",
       "  </thead>\n",
       "  <tbody>\n",
       "    <tr>\n",
       "      <th>0</th>\n",
       "      <td>Total Nacional</td>\n",
       "      <td>16 País Vasco</td>\n",
       "      <td>01 Araba/Álava</td>\n",
       "      <td>En España</td>\n",
       "      <td>Todas las edades</td>\n",
       "      <td>Total</td>\n",
       "      <td>1 de enero de 2022</td>\n",
       "      <td>289.324</td>\n",
       "    </tr>\n",
       "    <tr>\n",
       "      <th>1</th>\n",
       "      <td>Total Nacional</td>\n",
       "      <td>16 País Vasco</td>\n",
       "      <td>01 Araba/Álava</td>\n",
       "      <td>En España</td>\n",
       "      <td>Todas las edades</td>\n",
       "      <td>Total</td>\n",
       "      <td>1 de enero de 2018</td>\n",
       "      <td>291.487</td>\n",
       "    </tr>\n",
       "    <tr>\n",
       "      <th>2</th>\n",
       "      <td>Total Nacional</td>\n",
       "      <td>16 País Vasco</td>\n",
       "      <td>01 Araba/Álava</td>\n",
       "      <td>En España</td>\n",
       "      <td>Todas las edades</td>\n",
       "      <td>Total</td>\n",
       "      <td>1 de enero de 2014</td>\n",
       "      <td>288.481</td>\n",
       "    </tr>\n",
       "    <tr>\n",
       "      <th>3</th>\n",
       "      <td>Total Nacional</td>\n",
       "      <td>16 País Vasco</td>\n",
       "      <td>01 Araba/Álava</td>\n",
       "      <td>En España</td>\n",
       "      <td>Todas las edades</td>\n",
       "      <td>Total</td>\n",
       "      <td>1 de enero de 2010</td>\n",
       "      <td>285.108</td>\n",
       "    </tr>\n",
       "    <tr>\n",
       "      <th>4</th>\n",
       "      <td>Total Nacional</td>\n",
       "      <td>16 País Vasco</td>\n",
       "      <td>01 Araba/Álava</td>\n",
       "      <td>En España</td>\n",
       "      <td>Todas las edades</td>\n",
       "      <td>Total</td>\n",
       "      <td>1 de enero de 2006</td>\n",
       "      <td>282.209</td>\n",
       "    </tr>\n",
       "  </tbody>\n",
       "</table>\n",
       "</div>"
      ],
      "text/plain": [
       "   Total Nacional Comunidades y Ciudades Autónomas      Provincias  \\\n",
       "0  Total Nacional                    16 País Vasco  01 Araba/Álava   \n",
       "1  Total Nacional                    16 País Vasco  01 Araba/Álava   \n",
       "2  Total Nacional                    16 País Vasco  01 Araba/Álava   \n",
       "3  Total Nacional                    16 País Vasco  01 Araba/Álava   \n",
       "4  Total Nacional                    16 País Vasco  01 Araba/Álava   \n",
       "\n",
       "  Relacion entre lugar de nacimiento y residencia Edad (grupos quinquenales)  \\\n",
       "0                                       En España           Todas las edades   \n",
       "1                                       En España           Todas las edades   \n",
       "2                                       En España           Todas las edades   \n",
       "3                                       En España           Todas las edades   \n",
       "4                                       En España           Todas las edades   \n",
       "\n",
       "    Sexo             Periodo    Total  \n",
       "0  Total  1 de enero de 2022  289.324  \n",
       "1  Total  1 de enero de 2018  291.487  \n",
       "2  Total  1 de enero de 2014  288.481  \n",
       "3  Total  1 de enero de 2010  285.108  \n",
       "4  Total  1 de enero de 2006  282.209  "
      ]
     },
     "execution_count": 108,
     "metadata": {},
     "output_type": "execute_result"
    }
   ],
   "source": [
    "df.info()\n",
    "\n",
    "df.head(5)\n"
   ]
  },
  {
   "cell_type": "markdown",
   "id": "8a4a00a3",
   "metadata": {},
   "source": [
    "* Limpieza\n",
    "\n",
    "<u>Eliminar datos irrelevantes o que no aportan información útil para el estudio</u>"
   ]
  },
  {
   "cell_type": "markdown",
   "id": "688e955d",
   "metadata": {},
   "source": [
    "Veo que las columnas Total Nacional', 'Edad (grupos quinquenales)'y 'Sexo', no van a aportar nada porque no sirven para dividir a la población, sino que siempre aparece la misma información. \n",
    "\n",
    "Decido eliminarlas definitivamente del DF"
   ]
  },
  {
   "cell_type": "code",
   "execution_count": 109,
   "id": "a7346f06",
   "metadata": {},
   "outputs": [],
   "source": [
    "df.drop(['Total Nacional', 'Edad (grupos quinquenales)', 'Sexo'], axis= 1, inplace= True)"
   ]
  },
  {
   "cell_type": "markdown",
   "id": "0b58074a",
   "metadata": {},
   "source": [
    "Hacemos una vista de como va quedando la información"
   ]
  },
  {
   "cell_type": "code",
   "execution_count": 110,
   "id": "65a7bfbf",
   "metadata": {},
   "outputs": [
    {
     "data": {
      "text/html": [
       "<div>\n",
       "<style scoped>\n",
       "    .dataframe tbody tr th:only-of-type {\n",
       "        vertical-align: middle;\n",
       "    }\n",
       "\n",
       "    .dataframe tbody tr th {\n",
       "        vertical-align: top;\n",
       "    }\n",
       "\n",
       "    .dataframe thead th {\n",
       "        text-align: right;\n",
       "    }\n",
       "</style>\n",
       "<table border=\"1\" class=\"dataframe\">\n",
       "  <thead>\n",
       "    <tr style=\"text-align: right;\">\n",
       "      <th></th>\n",
       "      <th>Comunidades y Ciudades Autónomas</th>\n",
       "      <th>Provincias</th>\n",
       "      <th>Relacion entre lugar de nacimiento y residencia</th>\n",
       "      <th>Periodo</th>\n",
       "      <th>Total</th>\n",
       "    </tr>\n",
       "  </thead>\n",
       "  <tbody>\n",
       "    <tr>\n",
       "      <th>0</th>\n",
       "      <td>16 País Vasco</td>\n",
       "      <td>01 Araba/Álava</td>\n",
       "      <td>En España</td>\n",
       "      <td>1 de enero de 2022</td>\n",
       "      <td>289.324</td>\n",
       "    </tr>\n",
       "    <tr>\n",
       "      <th>1</th>\n",
       "      <td>16 País Vasco</td>\n",
       "      <td>01 Araba/Álava</td>\n",
       "      <td>En España</td>\n",
       "      <td>1 de enero de 2018</td>\n",
       "      <td>291.487</td>\n",
       "    </tr>\n",
       "    <tr>\n",
       "      <th>2</th>\n",
       "      <td>16 País Vasco</td>\n",
       "      <td>01 Araba/Álava</td>\n",
       "      <td>En España</td>\n",
       "      <td>1 de enero de 2014</td>\n",
       "      <td>288.481</td>\n",
       "    </tr>\n",
       "    <tr>\n",
       "      <th>3</th>\n",
       "      <td>16 País Vasco</td>\n",
       "      <td>01 Araba/Álava</td>\n",
       "      <td>En España</td>\n",
       "      <td>1 de enero de 2010</td>\n",
       "      <td>285.108</td>\n",
       "    </tr>\n",
       "    <tr>\n",
       "      <th>4</th>\n",
       "      <td>16 País Vasco</td>\n",
       "      <td>01 Araba/Álava</td>\n",
       "      <td>En España</td>\n",
       "      <td>1 de enero de 2006</td>\n",
       "      <td>282.209</td>\n",
       "    </tr>\n",
       "  </tbody>\n",
       "</table>\n",
       "</div>"
      ],
      "text/plain": [
       "  Comunidades y Ciudades Autónomas      Provincias  \\\n",
       "0                    16 País Vasco  01 Araba/Álava   \n",
       "1                    16 País Vasco  01 Araba/Álava   \n",
       "2                    16 País Vasco  01 Araba/Álava   \n",
       "3                    16 País Vasco  01 Araba/Álava   \n",
       "4                    16 País Vasco  01 Araba/Álava   \n",
       "\n",
       "  Relacion entre lugar de nacimiento y residencia             Periodo    Total  \n",
       "0                                       En España  1 de enero de 2022  289.324  \n",
       "1                                       En España  1 de enero de 2018  291.487  \n",
       "2                                       En España  1 de enero de 2014  288.481  \n",
       "3                                       En España  1 de enero de 2010  285.108  \n",
       "4                                       En España  1 de enero de 2006  282.209  "
      ]
     },
     "execution_count": 110,
     "metadata": {},
     "output_type": "execute_result"
    }
   ],
   "source": [
    "df.head(5)"
   ]
  },
  {
   "cell_type": "markdown",
   "id": "e5e491ed",
   "metadata": {},
   "source": [
    "Para poder trabajar mejor con los datos, veo que en las columnas 'Comunidades y Ciudades Autónomas' y en 'Provincias' he de eliminar algunos caracteres.\n",
    "\n",
    "Comprobamos que lo que hay que eliminar se repite en todas las filas y con el mismo número de caracteres, con lo que la limpieza de datos preeveo será sencilla y rápida. \n",
    "\n",
    "Ej: 16 País Vasco ----> He de quitar el str '16 '\n",
    "\n",
    "Ej: 01 Araba/Alava ---> He de quitar el str '01 '"
   ]
  },
  {
   "cell_type": "code",
   "execution_count": 111,
   "id": "82271ce5",
   "metadata": {},
   "outputs": [],
   "source": [
    "\n",
    "str_limpio_cyc = df[\"Comunidades y Ciudades Autónomas\"].str[3:]\n",
    "str_limpio_prov = df[\"Provincias\"].str[3:]\n",
    "str_limpio_periodo = df[\"Periodo\"].str[14:]\n"
   ]
  },
  {
   "cell_type": "markdown",
   "id": "ec7d19c5",
   "metadata": {},
   "source": [
    "Visualizamos como han quedado las columnas ya limpias\n"
   ]
  },
  {
   "cell_type": "code",
   "execution_count": 112,
   "id": "c947cf59",
   "metadata": {},
   "outputs": [
    {
     "name": "stdout",
     "output_type": "stream",
     "text": [
      "Provincia limpio 0       Araba/Álava\n",
      "1       Araba/Álava\n",
      "2       Araba/Álava\n",
      "3       Araba/Álava\n",
      "4       Araba/Álava\n",
      "           ...     \n",
      "1795            NaN\n",
      "1796            NaN\n",
      "1797            NaN\n",
      "1798            NaN\n",
      "1799            NaN\n",
      "Name: Provincias, Length: 1800, dtype: object\n",
      "CA limpio 0       País Vasco\n",
      "1       País Vasco\n",
      "2       País Vasco\n",
      "3       País Vasco\n",
      "4       País Vasco\n",
      "           ...    \n",
      "1795           NaN\n",
      "1796           NaN\n",
      "1797           NaN\n",
      "1798           NaN\n",
      "1799           NaN\n",
      "Name: Comunidades y Ciudades Autónomas, Length: 1800, dtype: object\n",
      "Periodo 0       2022\n",
      "1       2018\n",
      "2       2014\n",
      "3       2010\n",
      "4       2006\n",
      "        ... \n",
      "1795    2022\n",
      "1796    2018\n",
      "1797    2014\n",
      "1798    2010\n",
      "1799    2006\n",
      "Name: Periodo, Length: 1800, dtype: object\n"
     ]
    }
   ],
   "source": [
    "print(\"Provincia limpio\", str_limpio_prov)\n",
    "print(\"CA limpio\", str_limpio_cyc)\n",
    "print(\"Periodo\", str_limpio_periodo)"
   ]
  },
  {
   "cell_type": "markdown",
   "id": "960299f9",
   "metadata": {},
   "source": [
    "Una vez comprobado que nuestros datos aparecen limpios, sobreescribimos las columnas antiguas con los nuevos datos para que el DF quede actualizado."
   ]
  },
  {
   "cell_type": "code",
   "execution_count": 113,
   "id": "210e531e",
   "metadata": {},
   "outputs": [],
   "source": [
    "df[\"Comunidades y Ciudades Autónomas\"] = df[\"Comunidades y Ciudades Autónomas\"].str[3:]\n",
    "df[\"Provincias\"] = df[\"Provincias\"].str[3:]\n",
    "df[\"Periodo\"] = df[\"Periodo\"].str[14:]"
   ]
  },
  {
   "cell_type": "markdown",
   "id": "93d429ed",
   "metadata": {},
   "source": [
    "Comprobamos que todo aparece como esperábamos tras sobreescribir previsualizando de nuevo el DF"
   ]
  },
  {
   "cell_type": "code",
   "execution_count": 114,
   "id": "5cf32583",
   "metadata": {},
   "outputs": [
    {
     "data": {
      "text/html": [
       "<div>\n",
       "<style scoped>\n",
       "    .dataframe tbody tr th:only-of-type {\n",
       "        vertical-align: middle;\n",
       "    }\n",
       "\n",
       "    .dataframe tbody tr th {\n",
       "        vertical-align: top;\n",
       "    }\n",
       "\n",
       "    .dataframe thead th {\n",
       "        text-align: right;\n",
       "    }\n",
       "</style>\n",
       "<table border=\"1\" class=\"dataframe\">\n",
       "  <thead>\n",
       "    <tr style=\"text-align: right;\">\n",
       "      <th></th>\n",
       "      <th>Comunidades y Ciudades Autónomas</th>\n",
       "      <th>Provincias</th>\n",
       "      <th>Relacion entre lugar de nacimiento y residencia</th>\n",
       "      <th>Periodo</th>\n",
       "      <th>Total</th>\n",
       "    </tr>\n",
       "  </thead>\n",
       "  <tbody>\n",
       "    <tr>\n",
       "      <th>0</th>\n",
       "      <td>País Vasco</td>\n",
       "      <td>Araba/Álava</td>\n",
       "      <td>En España</td>\n",
       "      <td>2022</td>\n",
       "      <td>289.324</td>\n",
       "    </tr>\n",
       "    <tr>\n",
       "      <th>1</th>\n",
       "      <td>País Vasco</td>\n",
       "      <td>Araba/Álava</td>\n",
       "      <td>En España</td>\n",
       "      <td>2018</td>\n",
       "      <td>291.487</td>\n",
       "    </tr>\n",
       "    <tr>\n",
       "      <th>2</th>\n",
       "      <td>País Vasco</td>\n",
       "      <td>Araba/Álava</td>\n",
       "      <td>En España</td>\n",
       "      <td>2014</td>\n",
       "      <td>288.481</td>\n",
       "    </tr>\n",
       "    <tr>\n",
       "      <th>3</th>\n",
       "      <td>País Vasco</td>\n",
       "      <td>Araba/Álava</td>\n",
       "      <td>En España</td>\n",
       "      <td>2010</td>\n",
       "      <td>285.108</td>\n",
       "    </tr>\n",
       "    <tr>\n",
       "      <th>4</th>\n",
       "      <td>País Vasco</td>\n",
       "      <td>Araba/Álava</td>\n",
       "      <td>En España</td>\n",
       "      <td>2006</td>\n",
       "      <td>282.209</td>\n",
       "    </tr>\n",
       "  </tbody>\n",
       "</table>\n",
       "</div>"
      ],
      "text/plain": [
       "  Comunidades y Ciudades Autónomas   Provincias  \\\n",
       "0                       País Vasco  Araba/Álava   \n",
       "1                       País Vasco  Araba/Álava   \n",
       "2                       País Vasco  Araba/Álava   \n",
       "3                       País Vasco  Araba/Álava   \n",
       "4                       País Vasco  Araba/Álava   \n",
       "\n",
       "  Relacion entre lugar de nacimiento y residencia Periodo    Total  \n",
       "0                                       En España    2022  289.324  \n",
       "1                                       En España    2018  291.487  \n",
       "2                                       En España    2014  288.481  \n",
       "3                                       En España    2010  285.108  \n",
       "4                                       En España    2006  282.209  "
      ]
     },
     "execution_count": 114,
     "metadata": {},
     "output_type": "execute_result"
    }
   ],
   "source": [
    "df.head(5)"
   ]
  },
  {
   "cell_type": "markdown",
   "id": "2d2bc6e3",
   "metadata": {},
   "source": [
    "* Manejo de valores nulos"
   ]
  },
  {
   "cell_type": "markdown",
   "id": "e8b4b807",
   "metadata": {},
   "source": [
    "Hemos visto que había datos Nans en las columnas 'Comunidades y Ciudades Autónomas' y 'Provincias'\n",
    "\n",
    "Quiero ver mas de que se tratan con mas detenimiento"
   ]
  },
  {
   "cell_type": "code",
   "execution_count": 115,
   "id": "75d23b5e",
   "metadata": {},
   "outputs": [
    {
     "name": "stdout",
     "output_type": "stream",
     "text": [
      "Nulos en Comunidades y Ciudades 25\n",
      "Nulos en Provincias 500\n"
     ]
    }
   ],
   "source": [
    "print('Nulos en Comunidades y Ciudades', df['Comunidades y Ciudades Autónomas'].isna().sum())\n",
    "print('Nulos en Provincias', df['Provincias'].isna().sum())"
   ]
  },
  {
   "cell_type": "code",
   "execution_count": 116,
   "id": "db74e5ea",
   "metadata": {},
   "outputs": [
    {
     "name": "stdout",
     "output_type": "stream",
     "text": [
      "Indices con valores nulos: Index([1775, 1776, 1777, 1778, 1779, 1780, 1781, 1782, 1783, 1784, 1785, 1786,\n",
      "       1787, 1788, 1789, 1790, 1791, 1792, 1793, 1794, 1795, 1796, 1797, 1798,\n",
      "       1799],\n",
      "      dtype='int64')\n",
      "     Comunidades y Ciudades Autónomas Provincias  \\\n",
      "1775                              NaN        NaN   \n",
      "1776                              NaN        NaN   \n",
      "1777                              NaN        NaN   \n",
      "1778                              NaN        NaN   \n",
      "1779                              NaN        NaN   \n",
      "1780                              NaN        NaN   \n",
      "1781                              NaN        NaN   \n",
      "1782                              NaN        NaN   \n",
      "1783                              NaN        NaN   \n",
      "1784                              NaN        NaN   \n",
      "1785                              NaN        NaN   \n",
      "1786                              NaN        NaN   \n",
      "1787                              NaN        NaN   \n",
      "1788                              NaN        NaN   \n",
      "1789                              NaN        NaN   \n",
      "1790                              NaN        NaN   \n",
      "1791                              NaN        NaN   \n",
      "1792                              NaN        NaN   \n",
      "1793                              NaN        NaN   \n",
      "1794                              NaN        NaN   \n",
      "1795                              NaN        NaN   \n",
      "1796                              NaN        NaN   \n",
      "1797                              NaN        NaN   \n",
      "1798                              NaN        NaN   \n",
      "1799                              NaN        NaN   \n",
      "\n",
      "     Relacion entre lugar de nacimiento y residencia Periodo       Total  \n",
      "1775                                       En España    2022  39.940.907  \n",
      "1776                                       En España    2018  40.336.076  \n",
      "1777                                       En España    2014  40.487.629  \n",
      "1778                                       En España    2010  40.416.850  \n",
      "1779                                       En España    2006  39.871.342  \n",
      "1780      Misma Comunidad Autónoma. Misma Provincia.    2022  31.722.745  \n",
      "1781      Misma Comunidad Autónoma. Misma Provincia.    2018  31.928.217  \n",
      "1782      Misma Comunidad Autónoma. Misma Provincia.    2014  31.887.072  \n",
      "1783      Misma Comunidad Autónoma. Misma Provincia.    2010  31.618.190  \n",
      "1784      Misma Comunidad Autónoma. Misma Provincia.    2006  31.011.297  \n",
      "1785    Misma Comunidad Autónoma. Distinta Provincia    2022   1.654.983  \n",
      "1786    Misma Comunidad Autónoma. Distinta Provincia    2018   1.642.927  \n",
      "1787    Misma Comunidad Autónoma. Distinta Provincia    2014   1.651.765  \n",
      "1788    Misma Comunidad Autónoma. Distinta Provincia    2010   1.661.034  \n",
      "1789    Misma Comunidad Autónoma. Distinta Provincia    2006   1.631.031  \n",
      "1790                  En distinta Comunidad Autónoma    2022   6.563.179  \n",
      "1791                  En distinta Comunidad Autónoma    2018   6.764.932  \n",
      "1792                  En distinta Comunidad Autónoma    2014   6.948.792  \n",
      "1793                  En distinta Comunidad Autónoma    2010   7.137.626  \n",
      "1794                  En distinta Comunidad Autónoma    2006   7.229.014  \n",
      "1795                                En el extranjero    2022   7.534.513  \n",
      "1796                                En el extranjero    2018   6.386.904  \n",
      "1797                                En el extranjero    2014   6.283.712  \n",
      "1798                                En el extranjero    2010   6.604.181  \n",
      "1799                                En el extranjero    2006   4.837.622  \n"
     ]
    }
   ],
   "source": [
    "# Investigo las lineas de los nulos \n",
    "\n",
    "nulos_index = df[df['Comunidades y Ciudades Autónomas'].isna()].index\n",
    "print('Indices con valores nulos:', nulos_index)\n",
    "print(df.loc[nulos_index])\n"
   ]
  },
  {
   "cell_type": "markdown",
   "id": "d920e3dc",
   "metadata": {},
   "source": [
    "Tras investigar los nulos, compruebo que los datos que no se muestran son los de las comunidades y las provincias porque se refieren al total de España y por tanto no pueden mostrar ni Comunidad ni Provincia, pero si hay datos numéricos que me pueden interesar para refutar mis hipótesis. Decido por tanto quedarme estas líneas. "
   ]
  },
  {
   "cell_type": "markdown",
   "id": "87adeb31",
   "metadata": {},
   "source": [
    "Hemos finalizado la limpieza y comprobación de nuestro primer Dataset. Lo dejamos a la espera del análisis. \n",
    "\n",
    "Empecemos con la limpieza de los siguientes. "
   ]
  },
  {
   "cell_type": "markdown",
   "id": "669cafdf",
   "metadata": {},
   "source": [
    "* Exploración\n",
    "\n",
    "En esta ocasión, al intentar descargar el Dataset desde la página web del INE, no me permitía hacerlo por periodo de mas de un año, ya que el volumen de los datos era muy grande. He decargado por tanto los años que me interesaban y vamos a proceder a unir los Datasets antes de procesarlos y limpiarlos "
   ]
  },
  {
   "cell_type": "code",
   "execution_count": 117,
   "id": "32145549",
   "metadata": {},
   "outputs": [],
   "source": [
    "df1 = pd.read_csv(\"./Datasets/36825.csv\", sep=\";\", encoding=\"latin1\")\n",
    "df2 = pd.read_csv(\"./Datasets/36826.csv\", sep=\";\", encoding=\"latin1\")\n",
    "df3 = pd.read_csv(\"./Datasets/36827.csv\", sep=\";\", encoding=\"latin1\")\n",
    "df4 = pd.read_csv(\"./Datasets/36828.csv\", sep=\";\", encoding=\"latin1\")\n",
    "df5 = pd.read_csv(\"./Datasets/36829.csv\", sep=\";\", encoding=\"latin1\")"
   ]
  },
  {
   "cell_type": "markdown",
   "id": "8b0f6c35",
   "metadata": {},
   "source": [
    "Hacemos una vista previa de los DataFrames para asegurarnos que todos contienen la misma información y que está organizada de la misma forma evitando así errores al combinar"
   ]
  },
  {
   "cell_type": "code",
   "execution_count": 118,
   "id": "3fd1c216",
   "metadata": {},
   "outputs": [
    {
     "data": {
      "text/html": [
       "<div>\n",
       "<style scoped>\n",
       "    .dataframe tbody tr th:only-of-type {\n",
       "        vertical-align: middle;\n",
       "    }\n",
       "\n",
       "    .dataframe tbody tr th {\n",
       "        vertical-align: top;\n",
       "    }\n",
       "\n",
       "    .dataframe thead th {\n",
       "        text-align: right;\n",
       "    }\n",
       "</style>\n",
       "<table border=\"1\" class=\"dataframe\">\n",
       "  <thead>\n",
       "    <tr style=\"text-align: right;\">\n",
       "      <th></th>\n",
       "      <th>Total Nacional</th>\n",
       "      <th>Comunidades y Ciudades Autónomas</th>\n",
       "      <th>Provincias</th>\n",
       "      <th>País de nacionalidad</th>\n",
       "      <th>Edad (hasta 100 y más)</th>\n",
       "      <th>Sexo</th>\n",
       "      <th>Periodo</th>\n",
       "      <th>Total</th>\n",
       "    </tr>\n",
       "  </thead>\n",
       "  <tbody>\n",
       "    <tr>\n",
       "      <th>0</th>\n",
       "      <td>Total Nacional</td>\n",
       "      <td>NaN</td>\n",
       "      <td>NaN</td>\n",
       "      <td>Extranjera</td>\n",
       "      <td>Todas las edades</td>\n",
       "      <td>Total</td>\n",
       "      <td>1 de enero de 2006</td>\n",
       "      <td>4.144.166</td>\n",
       "    </tr>\n",
       "    <tr>\n",
       "      <th>1</th>\n",
       "      <td>Total Nacional</td>\n",
       "      <td>NaN</td>\n",
       "      <td>NaN</td>\n",
       "      <td>Europa (sin España)</td>\n",
       "      <td>Todas las edades</td>\n",
       "      <td>Total</td>\n",
       "      <td>1 de enero de 2006</td>\n",
       "      <td>1.609.856</td>\n",
       "    </tr>\n",
       "    <tr>\n",
       "      <th>2</th>\n",
       "      <td>Total Nacional</td>\n",
       "      <td>NaN</td>\n",
       "      <td>NaN</td>\n",
       "      <td>Alemania</td>\n",
       "      <td>Todas las edades</td>\n",
       "      <td>Total</td>\n",
       "      <td>1 de enero de 2006</td>\n",
       "      <td>150.490</td>\n",
       "    </tr>\n",
       "  </tbody>\n",
       "</table>\n",
       "</div>"
      ],
      "text/plain": [
       "   Total Nacional Comunidades y Ciudades Autónomas Provincias  \\\n",
       "0  Total Nacional                              NaN        NaN   \n",
       "1  Total Nacional                              NaN        NaN   \n",
       "2  Total Nacional                              NaN        NaN   \n",
       "\n",
       "  País de nacionalidad Edad (hasta 100 y más)   Sexo             Periodo  \\\n",
       "0           Extranjera       Todas las edades  Total  1 de enero de 2006   \n",
       "1  Europa (sin España)       Todas las edades  Total  1 de enero de 2006   \n",
       "2             Alemania       Todas las edades  Total  1 de enero de 2006   \n",
       "\n",
       "       Total  \n",
       "0  4.144.166  \n",
       "1  1.609.856  \n",
       "2    150.490  "
      ]
     },
     "execution_count": 118,
     "metadata": {},
     "output_type": "execute_result"
    }
   ],
   "source": [
    "df1.head(3)"
   ]
  },
  {
   "cell_type": "code",
   "execution_count": 119,
   "id": "46133047",
   "metadata": {},
   "outputs": [
    {
     "data": {
      "text/html": [
       "<div>\n",
       "<style scoped>\n",
       "    .dataframe tbody tr th:only-of-type {\n",
       "        vertical-align: middle;\n",
       "    }\n",
       "\n",
       "    .dataframe tbody tr th {\n",
       "        vertical-align: top;\n",
       "    }\n",
       "\n",
       "    .dataframe thead th {\n",
       "        text-align: right;\n",
       "    }\n",
       "</style>\n",
       "<table border=\"1\" class=\"dataframe\">\n",
       "  <thead>\n",
       "    <tr style=\"text-align: right;\">\n",
       "      <th></th>\n",
       "      <th>Total Nacional</th>\n",
       "      <th>Comunidades y Ciudades Autónomas</th>\n",
       "      <th>Provincias</th>\n",
       "      <th>País de nacionalidad</th>\n",
       "      <th>Edad (hasta 100 y más)</th>\n",
       "      <th>Sexo</th>\n",
       "      <th>Periodo</th>\n",
       "      <th>Total</th>\n",
       "    </tr>\n",
       "  </thead>\n",
       "  <tbody>\n",
       "    <tr>\n",
       "      <th>0</th>\n",
       "      <td>Total Nacional</td>\n",
       "      <td>NaN</td>\n",
       "      <td>NaN</td>\n",
       "      <td>Extranjera</td>\n",
       "      <td>Todas las edades</td>\n",
       "      <td>Total</td>\n",
       "      <td>1 de enero de 2022</td>\n",
       "      <td>5.542.932</td>\n",
       "    </tr>\n",
       "    <tr>\n",
       "      <th>1</th>\n",
       "      <td>Total Nacional</td>\n",
       "      <td>NaN</td>\n",
       "      <td>NaN</td>\n",
       "      <td>Europa (sin España)</td>\n",
       "      <td>Todas las edades</td>\n",
       "      <td>Total</td>\n",
       "      <td>1 de enero de 2022</td>\n",
       "      <td>2.205.961</td>\n",
       "    </tr>\n",
       "    <tr>\n",
       "      <th>2</th>\n",
       "      <td>Total Nacional</td>\n",
       "      <td>NaN</td>\n",
       "      <td>NaN</td>\n",
       "      <td>Alemania</td>\n",
       "      <td>Todas las edades</td>\n",
       "      <td>Total</td>\n",
       "      <td>1 de enero de 2022</td>\n",
       "      <td>116.122</td>\n",
       "    </tr>\n",
       "  </tbody>\n",
       "</table>\n",
       "</div>"
      ],
      "text/plain": [
       "   Total Nacional Comunidades y Ciudades Autónomas Provincias  \\\n",
       "0  Total Nacional                              NaN        NaN   \n",
       "1  Total Nacional                              NaN        NaN   \n",
       "2  Total Nacional                              NaN        NaN   \n",
       "\n",
       "  País de nacionalidad Edad (hasta 100 y más)   Sexo             Periodo  \\\n",
       "0           Extranjera       Todas las edades  Total  1 de enero de 2022   \n",
       "1  Europa (sin España)       Todas las edades  Total  1 de enero de 2022   \n",
       "2             Alemania       Todas las edades  Total  1 de enero de 2022   \n",
       "\n",
       "       Total  \n",
       "0  5.542.932  \n",
       "1  2.205.961  \n",
       "2    116.122  "
      ]
     },
     "execution_count": 119,
     "metadata": {},
     "output_type": "execute_result"
    }
   ],
   "source": [
    "df2.head(3)"
   ]
  },
  {
   "cell_type": "code",
   "execution_count": 120,
   "id": "16167b5d",
   "metadata": {},
   "outputs": [
    {
     "data": {
      "text/html": [
       "<div>\n",
       "<style scoped>\n",
       "    .dataframe tbody tr th:only-of-type {\n",
       "        vertical-align: middle;\n",
       "    }\n",
       "\n",
       "    .dataframe tbody tr th {\n",
       "        vertical-align: top;\n",
       "    }\n",
       "\n",
       "    .dataframe thead th {\n",
       "        text-align: right;\n",
       "    }\n",
       "</style>\n",
       "<table border=\"1\" class=\"dataframe\">\n",
       "  <thead>\n",
       "    <tr style=\"text-align: right;\">\n",
       "      <th></th>\n",
       "      <th>Total Nacional</th>\n",
       "      <th>Comunidades y Ciudades Autónomas</th>\n",
       "      <th>Provincias</th>\n",
       "      <th>País de nacionalidad</th>\n",
       "      <th>Edad (hasta 100 y más)</th>\n",
       "      <th>Sexo</th>\n",
       "      <th>Periodo</th>\n",
       "      <th>Total</th>\n",
       "    </tr>\n",
       "  </thead>\n",
       "  <tbody>\n",
       "    <tr>\n",
       "      <th>0</th>\n",
       "      <td>Total Nacional</td>\n",
       "      <td>NaN</td>\n",
       "      <td>NaN</td>\n",
       "      <td>Extranjera</td>\n",
       "      <td>Todas las edades</td>\n",
       "      <td>Total</td>\n",
       "      <td>1 de enero de 2018</td>\n",
       "      <td>4.734.691</td>\n",
       "    </tr>\n",
       "    <tr>\n",
       "      <th>1</th>\n",
       "      <td>Total Nacional</td>\n",
       "      <td>NaN</td>\n",
       "      <td>NaN</td>\n",
       "      <td>Europa (sin España)</td>\n",
       "      <td>Todas las edades</td>\n",
       "      <td>Total</td>\n",
       "      <td>1 de enero de 2018</td>\n",
       "      <td>2.061.035</td>\n",
       "    </tr>\n",
       "    <tr>\n",
       "      <th>2</th>\n",
       "      <td>Total Nacional</td>\n",
       "      <td>NaN</td>\n",
       "      <td>NaN</td>\n",
       "      <td>Alemania</td>\n",
       "      <td>Todas las edades</td>\n",
       "      <td>Total</td>\n",
       "      <td>1 de enero de 2018</td>\n",
       "      <td>111.495</td>\n",
       "    </tr>\n",
       "  </tbody>\n",
       "</table>\n",
       "</div>"
      ],
      "text/plain": [
       "   Total Nacional Comunidades y Ciudades Autónomas Provincias  \\\n",
       "0  Total Nacional                              NaN        NaN   \n",
       "1  Total Nacional                              NaN        NaN   \n",
       "2  Total Nacional                              NaN        NaN   \n",
       "\n",
       "  País de nacionalidad Edad (hasta 100 y más)   Sexo             Periodo  \\\n",
       "0           Extranjera       Todas las edades  Total  1 de enero de 2018   \n",
       "1  Europa (sin España)       Todas las edades  Total  1 de enero de 2018   \n",
       "2             Alemania       Todas las edades  Total  1 de enero de 2018   \n",
       "\n",
       "       Total  \n",
       "0  4.734.691  \n",
       "1  2.061.035  \n",
       "2    111.495  "
      ]
     },
     "execution_count": 120,
     "metadata": {},
     "output_type": "execute_result"
    }
   ],
   "source": [
    "df3.head(3)"
   ]
  },
  {
   "cell_type": "code",
   "execution_count": 121,
   "id": "68ee3daf",
   "metadata": {},
   "outputs": [
    {
     "data": {
      "text/html": [
       "<div>\n",
       "<style scoped>\n",
       "    .dataframe tbody tr th:only-of-type {\n",
       "        vertical-align: middle;\n",
       "    }\n",
       "\n",
       "    .dataframe tbody tr th {\n",
       "        vertical-align: top;\n",
       "    }\n",
       "\n",
       "    .dataframe thead th {\n",
       "        text-align: right;\n",
       "    }\n",
       "</style>\n",
       "<table border=\"1\" class=\"dataframe\">\n",
       "  <thead>\n",
       "    <tr style=\"text-align: right;\">\n",
       "      <th></th>\n",
       "      <th>Total Nacional</th>\n",
       "      <th>Comunidades y Ciudades Autónomas</th>\n",
       "      <th>Provincias</th>\n",
       "      <th>País de nacionalidad</th>\n",
       "      <th>Edad (hasta 100 y más)</th>\n",
       "      <th>Sexo</th>\n",
       "      <th>Periodo</th>\n",
       "      <th>Total</th>\n",
       "    </tr>\n",
       "  </thead>\n",
       "  <tbody>\n",
       "    <tr>\n",
       "      <th>0</th>\n",
       "      <td>Total Nacional</td>\n",
       "      <td>NaN</td>\n",
       "      <td>NaN</td>\n",
       "      <td>Extranjera</td>\n",
       "      <td>Todas las edades</td>\n",
       "      <td>Total</td>\n",
       "      <td>1 de enero de 2014</td>\n",
       "      <td>5.023.487</td>\n",
       "    </tr>\n",
       "    <tr>\n",
       "      <th>1</th>\n",
       "      <td>Total Nacional</td>\n",
       "      <td>NaN</td>\n",
       "      <td>NaN</td>\n",
       "      <td>Europa (sin España)</td>\n",
       "      <td>Todas las edades</td>\n",
       "      <td>Total</td>\n",
       "      <td>1 de enero de 2014</td>\n",
       "      <td>2.299.165</td>\n",
       "    </tr>\n",
       "    <tr>\n",
       "      <th>2</th>\n",
       "      <td>Total Nacional</td>\n",
       "      <td>NaN</td>\n",
       "      <td>NaN</td>\n",
       "      <td>Alemania</td>\n",
       "      <td>Todas las edades</td>\n",
       "      <td>Total</td>\n",
       "      <td>1 de enero de 2014</td>\n",
       "      <td>140.511</td>\n",
       "    </tr>\n",
       "  </tbody>\n",
       "</table>\n",
       "</div>"
      ],
      "text/plain": [
       "   Total Nacional Comunidades y Ciudades Autónomas Provincias  \\\n",
       "0  Total Nacional                              NaN        NaN   \n",
       "1  Total Nacional                              NaN        NaN   \n",
       "2  Total Nacional                              NaN        NaN   \n",
       "\n",
       "  País de nacionalidad Edad (hasta 100 y más)   Sexo             Periodo  \\\n",
       "0           Extranjera       Todas las edades  Total  1 de enero de 2014   \n",
       "1  Europa (sin España)       Todas las edades  Total  1 de enero de 2014   \n",
       "2             Alemania       Todas las edades  Total  1 de enero de 2014   \n",
       "\n",
       "       Total  \n",
       "0  5.023.487  \n",
       "1  2.299.165  \n",
       "2    140.511  "
      ]
     },
     "execution_count": 121,
     "metadata": {},
     "output_type": "execute_result"
    }
   ],
   "source": [
    "df4.head(3)"
   ]
  },
  {
   "cell_type": "code",
   "execution_count": 122,
   "id": "a15d264b",
   "metadata": {},
   "outputs": [
    {
     "data": {
      "text/html": [
       "<div>\n",
       "<style scoped>\n",
       "    .dataframe tbody tr th:only-of-type {\n",
       "        vertical-align: middle;\n",
       "    }\n",
       "\n",
       "    .dataframe tbody tr th {\n",
       "        vertical-align: top;\n",
       "    }\n",
       "\n",
       "    .dataframe thead th {\n",
       "        text-align: right;\n",
       "    }\n",
       "</style>\n",
       "<table border=\"1\" class=\"dataframe\">\n",
       "  <thead>\n",
       "    <tr style=\"text-align: right;\">\n",
       "      <th></th>\n",
       "      <th>Total Nacional</th>\n",
       "      <th>Comunidades y Ciudades Autónomas</th>\n",
       "      <th>Provincias</th>\n",
       "      <th>País de nacionalidad</th>\n",
       "      <th>Edad (hasta 100 y más)</th>\n",
       "      <th>Sexo</th>\n",
       "      <th>Periodo</th>\n",
       "      <th>Total</th>\n",
       "    </tr>\n",
       "  </thead>\n",
       "  <tbody>\n",
       "    <tr>\n",
       "      <th>0</th>\n",
       "      <td>Total Nacional</td>\n",
       "      <td>NaN</td>\n",
       "      <td>NaN</td>\n",
       "      <td>Extranjera</td>\n",
       "      <td>Todas las edades</td>\n",
       "      <td>Total</td>\n",
       "      <td>1 de enero de 2010</td>\n",
       "      <td>5.747.734</td>\n",
       "    </tr>\n",
       "    <tr>\n",
       "      <th>1</th>\n",
       "      <td>Total Nacional</td>\n",
       "      <td>NaN</td>\n",
       "      <td>NaN</td>\n",
       "      <td>Europa (sin España)</td>\n",
       "      <td>Todas las edades</td>\n",
       "      <td>Total</td>\n",
       "      <td>1 de enero de 2010</td>\n",
       "      <td>2.578.971</td>\n",
       "    </tr>\n",
       "    <tr>\n",
       "      <th>2</th>\n",
       "      <td>Total Nacional</td>\n",
       "      <td>NaN</td>\n",
       "      <td>NaN</td>\n",
       "      <td>Alemania</td>\n",
       "      <td>Todas las edades</td>\n",
       "      <td>Total</td>\n",
       "      <td>1 de enero de 2010</td>\n",
       "      <td>195.824</td>\n",
       "    </tr>\n",
       "  </tbody>\n",
       "</table>\n",
       "</div>"
      ],
      "text/plain": [
       "   Total Nacional Comunidades y Ciudades Autónomas Provincias  \\\n",
       "0  Total Nacional                              NaN        NaN   \n",
       "1  Total Nacional                              NaN        NaN   \n",
       "2  Total Nacional                              NaN        NaN   \n",
       "\n",
       "  País de nacionalidad Edad (hasta 100 y más)   Sexo             Periodo  \\\n",
       "0           Extranjera       Todas las edades  Total  1 de enero de 2010   \n",
       "1  Europa (sin España)       Todas las edades  Total  1 de enero de 2010   \n",
       "2             Alemania       Todas las edades  Total  1 de enero de 2010   \n",
       "\n",
       "       Total  \n",
       "0  5.747.734  \n",
       "1  2.578.971  \n",
       "2    195.824  "
      ]
     },
     "execution_count": 122,
     "metadata": {},
     "output_type": "execute_result"
    }
   ],
   "source": [
    "df5.head(3)"
   ]
  },
  {
   "cell_type": "markdown",
   "id": "6ea6ba4d",
   "metadata": {},
   "source": [
    "Una vez comprobado que tenemos las mismas columnas y aparentemente los mismos datos en cada una, procedemos a unirlos "
   ]
  },
  {
   "cell_type": "code",
   "execution_count": 123,
   "id": "16f24cc3",
   "metadata": {},
   "outputs": [],
   "source": [
    "df_ext = pd.concat([df1, df2, df3, df4, df5], ignore_index=True)"
   ]
  },
  {
   "cell_type": "markdown",
   "id": "bb272ef8",
   "metadata": {},
   "source": [
    "Comprobamos que todo está unido como debe"
   ]
  },
  {
   "cell_type": "code",
   "execution_count": 124,
   "id": "93700fd6",
   "metadata": {},
   "outputs": [
    {
     "data": {
      "text/html": [
       "<div>\n",
       "<style scoped>\n",
       "    .dataframe tbody tr th:only-of-type {\n",
       "        vertical-align: middle;\n",
       "    }\n",
       "\n",
       "    .dataframe tbody tr th {\n",
       "        vertical-align: top;\n",
       "    }\n",
       "\n",
       "    .dataframe thead th {\n",
       "        text-align: right;\n",
       "    }\n",
       "</style>\n",
       "<table border=\"1\" class=\"dataframe\">\n",
       "  <thead>\n",
       "    <tr style=\"text-align: right;\">\n",
       "      <th></th>\n",
       "      <th>Total Nacional</th>\n",
       "      <th>Comunidades y Ciudades Autónomas</th>\n",
       "      <th>Provincias</th>\n",
       "      <th>País de nacionalidad</th>\n",
       "      <th>Edad (hasta 100 y más)</th>\n",
       "      <th>Sexo</th>\n",
       "      <th>Periodo</th>\n",
       "      <th>Total</th>\n",
       "    </tr>\n",
       "  </thead>\n",
       "  <tbody>\n",
       "    <tr>\n",
       "      <th>0</th>\n",
       "      <td>Total Nacional</td>\n",
       "      <td>NaN</td>\n",
       "      <td>NaN</td>\n",
       "      <td>Extranjera</td>\n",
       "      <td>Todas las edades</td>\n",
       "      <td>Total</td>\n",
       "      <td>1 de enero de 2006</td>\n",
       "      <td>4.144.166</td>\n",
       "    </tr>\n",
       "    <tr>\n",
       "      <th>1</th>\n",
       "      <td>Total Nacional</td>\n",
       "      <td>NaN</td>\n",
       "      <td>NaN</td>\n",
       "      <td>Europa (sin España)</td>\n",
       "      <td>Todas las edades</td>\n",
       "      <td>Total</td>\n",
       "      <td>1 de enero de 2006</td>\n",
       "      <td>1.609.856</td>\n",
       "    </tr>\n",
       "    <tr>\n",
       "      <th>2</th>\n",
       "      <td>Total Nacional</td>\n",
       "      <td>NaN</td>\n",
       "      <td>NaN</td>\n",
       "      <td>Alemania</td>\n",
       "      <td>Todas las edades</td>\n",
       "      <td>Total</td>\n",
       "      <td>1 de enero de 2006</td>\n",
       "      <td>150.490</td>\n",
       "    </tr>\n",
       "    <tr>\n",
       "      <th>3</th>\n",
       "      <td>Total Nacional</td>\n",
       "      <td>NaN</td>\n",
       "      <td>NaN</td>\n",
       "      <td>Austria</td>\n",
       "      <td>Todas las edades</td>\n",
       "      <td>Total</td>\n",
       "      <td>1 de enero de 2006</td>\n",
       "      <td>7.776</td>\n",
       "    </tr>\n",
       "    <tr>\n",
       "      <th>4</th>\n",
       "      <td>Total Nacional</td>\n",
       "      <td>NaN</td>\n",
       "      <td>NaN</td>\n",
       "      <td>Bélgica</td>\n",
       "      <td>Todas las edades</td>\n",
       "      <td>Total</td>\n",
       "      <td>1 de enero de 2006</td>\n",
       "      <td>29.526</td>\n",
       "    </tr>\n",
       "  </tbody>\n",
       "</table>\n",
       "</div>"
      ],
      "text/plain": [
       "   Total Nacional Comunidades y Ciudades Autónomas Provincias  \\\n",
       "0  Total Nacional                              NaN        NaN   \n",
       "1  Total Nacional                              NaN        NaN   \n",
       "2  Total Nacional                              NaN        NaN   \n",
       "3  Total Nacional                              NaN        NaN   \n",
       "4  Total Nacional                              NaN        NaN   \n",
       "\n",
       "  País de nacionalidad Edad (hasta 100 y más)   Sexo             Periodo  \\\n",
       "0           Extranjera       Todas las edades  Total  1 de enero de 2006   \n",
       "1  Europa (sin España)       Todas las edades  Total  1 de enero de 2006   \n",
       "2             Alemania       Todas las edades  Total  1 de enero de 2006   \n",
       "3              Austria       Todas las edades  Total  1 de enero de 2006   \n",
       "4              Bélgica       Todas las edades  Total  1 de enero de 2006   \n",
       "\n",
       "       Total  \n",
       "0  4.144.166  \n",
       "1  1.609.856  \n",
       "2    150.490  \n",
       "3      7.776  \n",
       "4     29.526  "
      ]
     },
     "execution_count": 124,
     "metadata": {},
     "output_type": "execute_result"
    }
   ],
   "source": [
    "df_ext.head()"
   ]
  },
  {
   "cell_type": "code",
   "execution_count": 125,
   "id": "73aab34f",
   "metadata": {},
   "outputs": [
    {
     "data": {
      "text/html": [
       "<div>\n",
       "<style scoped>\n",
       "    .dataframe tbody tr th:only-of-type {\n",
       "        vertical-align: middle;\n",
       "    }\n",
       "\n",
       "    .dataframe tbody tr th {\n",
       "        vertical-align: top;\n",
       "    }\n",
       "\n",
       "    .dataframe thead th {\n",
       "        text-align: right;\n",
       "    }\n",
       "</style>\n",
       "<table border=\"1\" class=\"dataframe\">\n",
       "  <thead>\n",
       "    <tr style=\"text-align: right;\">\n",
       "      <th></th>\n",
       "      <th>Total Nacional</th>\n",
       "      <th>Comunidades y Ciudades Autónomas</th>\n",
       "      <th>Provincias</th>\n",
       "      <th>País de nacionalidad</th>\n",
       "      <th>Edad (hasta 100 y más)</th>\n",
       "      <th>Sexo</th>\n",
       "      <th>Periodo</th>\n",
       "      <th>Total</th>\n",
       "    </tr>\n",
       "  </thead>\n",
       "  <tbody>\n",
       "    <tr>\n",
       "      <th>46795</th>\n",
       "      <td>Total Nacional</td>\n",
       "      <td>19 Melilla</td>\n",
       "      <td>52 Melilla</td>\n",
       "      <td>De Oceanía</td>\n",
       "      <td>Todas las edades</td>\n",
       "      <td>Total</td>\n",
       "      <td>1 de enero de 2010</td>\n",
       "      <td>0</td>\n",
       "    </tr>\n",
       "    <tr>\n",
       "      <th>46796</th>\n",
       "      <td>Total Nacional</td>\n",
       "      <td>19 Melilla</td>\n",
       "      <td>52 Melilla</td>\n",
       "      <td>Australia</td>\n",
       "      <td>Todas las edades</td>\n",
       "      <td>Total</td>\n",
       "      <td>1 de enero de 2010</td>\n",
       "      <td>0</td>\n",
       "    </tr>\n",
       "    <tr>\n",
       "      <th>46797</th>\n",
       "      <td>Total Nacional</td>\n",
       "      <td>19 Melilla</td>\n",
       "      <td>52 Melilla</td>\n",
       "      <td>Nueva Zelanda</td>\n",
       "      <td>Todas las edades</td>\n",
       "      <td>Total</td>\n",
       "      <td>1 de enero de 2010</td>\n",
       "      <td>0</td>\n",
       "    </tr>\n",
       "    <tr>\n",
       "      <th>46798</th>\n",
       "      <td>Total Nacional</td>\n",
       "      <td>19 Melilla</td>\n",
       "      <td>52 Melilla</td>\n",
       "      <td>Resto de Nacionalidades de Oceanía</td>\n",
       "      <td>Todas las edades</td>\n",
       "      <td>Total</td>\n",
       "      <td>1 de enero de 2010</td>\n",
       "      <td>0</td>\n",
       "    </tr>\n",
       "    <tr>\n",
       "      <th>46799</th>\n",
       "      <td>Total Nacional</td>\n",
       "      <td>19 Melilla</td>\n",
       "      <td>52 Melilla</td>\n",
       "      <td>Apátridas</td>\n",
       "      <td>Todas las edades</td>\n",
       "      <td>Total</td>\n",
       "      <td>1 de enero de 2010</td>\n",
       "      <td>1</td>\n",
       "    </tr>\n",
       "  </tbody>\n",
       "</table>\n",
       "</div>"
      ],
      "text/plain": [
       "       Total Nacional Comunidades y Ciudades Autónomas  Provincias  \\\n",
       "46795  Total Nacional                       19 Melilla  52 Melilla   \n",
       "46796  Total Nacional                       19 Melilla  52 Melilla   \n",
       "46797  Total Nacional                       19 Melilla  52 Melilla   \n",
       "46798  Total Nacional                       19 Melilla  52 Melilla   \n",
       "46799  Total Nacional                       19 Melilla  52 Melilla   \n",
       "\n",
       "                     País de nacionalidad Edad (hasta 100 y más)   Sexo  \\\n",
       "46795                          De Oceanía       Todas las edades  Total   \n",
       "46796                           Australia       Todas las edades  Total   \n",
       "46797                       Nueva Zelanda       Todas las edades  Total   \n",
       "46798  Resto de Nacionalidades de Oceanía       Todas las edades  Total   \n",
       "46799                           Apátridas       Todas las edades  Total   \n",
       "\n",
       "                  Periodo Total  \n",
       "46795  1 de enero de 2010     0  \n",
       "46796  1 de enero de 2010     0  \n",
       "46797  1 de enero de 2010     0  \n",
       "46798  1 de enero de 2010     0  \n",
       "46799  1 de enero de 2010     1  "
      ]
     },
     "execution_count": 125,
     "metadata": {},
     "output_type": "execute_result"
    }
   ],
   "source": [
    "df_ext.tail()"
   ]
  },
  {
   "cell_type": "code",
   "execution_count": 126,
   "id": "d4710cbe",
   "metadata": {},
   "outputs": [
    {
     "name": "stdout",
     "output_type": "stream",
     "text": [
      "<class 'pandas.core.frame.DataFrame'>\n",
      "RangeIndex: 46800 entries, 0 to 46799\n",
      "Data columns (total 8 columns):\n",
      " #   Column                            Non-Null Count  Dtype \n",
      "---  ------                            --------------  ----- \n",
      " 0   Total Nacional                    46800 non-null  object\n",
      " 1   Comunidades y Ciudades Autónomas  46150 non-null  object\n",
      " 2   Provincias                        33800 non-null  object\n",
      " 3   País de nacionalidad              46800 non-null  object\n",
      " 4   Edad (hasta 100 y más)            46800 non-null  object\n",
      " 5   Sexo                              46800 non-null  object\n",
      " 6   Periodo                           46800 non-null  object\n",
      " 7   Total                             46440 non-null  object\n",
      "dtypes: object(8)\n",
      "memory usage: 2.9+ MB\n"
     ]
    }
   ],
   "source": [
    "df_ext.info()"
   ]
  },
  {
   "cell_type": "code",
   "execution_count": 127,
   "id": "f478f2a7",
   "metadata": {},
   "outputs": [
    {
     "data": {
      "text/plain": [
       "Index(['Total Nacional', 'Comunidades y Ciudades Autónomas', 'Provincias',\n",
       "       'País de nacionalidad', 'Edad (hasta 100 y más)', 'Sexo', 'Periodo',\n",
       "       'Total'],\n",
       "      dtype='object')"
      ]
     },
     "execution_count": 127,
     "metadata": {},
     "output_type": "execute_result"
    }
   ],
   "source": [
    "df_ext.columns"
   ]
  },
  {
   "cell_type": "markdown",
   "id": "e90d3b3c",
   "metadata": {},
   "source": [
    "Parece que nuestros datos son correctos. Proseguimos con la limpieza."
   ]
  },
  {
   "cell_type": "markdown",
   "id": "3dbff16d",
   "metadata": {},
   "source": [
    "* Limpieza\n",
    "\n",
    "<u>Eliminar datos irrelevantes o que no aportan información útil para el estudio</u>\n",
    "\n",
    "Igual que en el DataSet anterior, comprobamos que hay columnas que no aportarán nada a nuestro estudio. \n",
    "\n",
    "Decidimos por tanto borrar las columnas 'Total Nacional', 'Edad (hasta 100 y más)' y 'Sexo'"
   ]
  },
  {
   "cell_type": "code",
   "execution_count": 128,
   "id": "52a1492b",
   "metadata": {},
   "outputs": [],
   "source": [
    "df_ext.drop(['Total Nacional', 'Edad (hasta 100 y más)', 'Sexo'], axis= 1, inplace= True)"
   ]
  },
  {
   "cell_type": "markdown",
   "id": "4410a420",
   "metadata": {},
   "source": [
    "Comprobamos que se han eliminado correctamente"
   ]
  },
  {
   "cell_type": "code",
   "execution_count": 129,
   "id": "209e823c",
   "metadata": {},
   "outputs": [
    {
     "data": {
      "text/html": [
       "<div>\n",
       "<style scoped>\n",
       "    .dataframe tbody tr th:only-of-type {\n",
       "        vertical-align: middle;\n",
       "    }\n",
       "\n",
       "    .dataframe tbody tr th {\n",
       "        vertical-align: top;\n",
       "    }\n",
       "\n",
       "    .dataframe thead th {\n",
       "        text-align: right;\n",
       "    }\n",
       "</style>\n",
       "<table border=\"1\" class=\"dataframe\">\n",
       "  <thead>\n",
       "    <tr style=\"text-align: right;\">\n",
       "      <th></th>\n",
       "      <th>Comunidades y Ciudades Autónomas</th>\n",
       "      <th>Provincias</th>\n",
       "      <th>País de nacionalidad</th>\n",
       "      <th>Periodo</th>\n",
       "      <th>Total</th>\n",
       "    </tr>\n",
       "  </thead>\n",
       "  <tbody>\n",
       "    <tr>\n",
       "      <th>0</th>\n",
       "      <td>NaN</td>\n",
       "      <td>NaN</td>\n",
       "      <td>Extranjera</td>\n",
       "      <td>1 de enero de 2006</td>\n",
       "      <td>4.144.166</td>\n",
       "    </tr>\n",
       "    <tr>\n",
       "      <th>1</th>\n",
       "      <td>NaN</td>\n",
       "      <td>NaN</td>\n",
       "      <td>Europa (sin España)</td>\n",
       "      <td>1 de enero de 2006</td>\n",
       "      <td>1.609.856</td>\n",
       "    </tr>\n",
       "    <tr>\n",
       "      <th>2</th>\n",
       "      <td>NaN</td>\n",
       "      <td>NaN</td>\n",
       "      <td>Alemania</td>\n",
       "      <td>1 de enero de 2006</td>\n",
       "      <td>150.490</td>\n",
       "    </tr>\n",
       "    <tr>\n",
       "      <th>3</th>\n",
       "      <td>NaN</td>\n",
       "      <td>NaN</td>\n",
       "      <td>Austria</td>\n",
       "      <td>1 de enero de 2006</td>\n",
       "      <td>7.776</td>\n",
       "    </tr>\n",
       "    <tr>\n",
       "      <th>4</th>\n",
       "      <td>NaN</td>\n",
       "      <td>NaN</td>\n",
       "      <td>Bélgica</td>\n",
       "      <td>1 de enero de 2006</td>\n",
       "      <td>29.526</td>\n",
       "    </tr>\n",
       "    <tr>\n",
       "      <th>...</th>\n",
       "      <td>...</td>\n",
       "      <td>...</td>\n",
       "      <td>...</td>\n",
       "      <td>...</td>\n",
       "      <td>...</td>\n",
       "    </tr>\n",
       "    <tr>\n",
       "      <th>46795</th>\n",
       "      <td>19 Melilla</td>\n",
       "      <td>52 Melilla</td>\n",
       "      <td>De Oceanía</td>\n",
       "      <td>1 de enero de 2010</td>\n",
       "      <td>0</td>\n",
       "    </tr>\n",
       "    <tr>\n",
       "      <th>46796</th>\n",
       "      <td>19 Melilla</td>\n",
       "      <td>52 Melilla</td>\n",
       "      <td>Australia</td>\n",
       "      <td>1 de enero de 2010</td>\n",
       "      <td>0</td>\n",
       "    </tr>\n",
       "    <tr>\n",
       "      <th>46797</th>\n",
       "      <td>19 Melilla</td>\n",
       "      <td>52 Melilla</td>\n",
       "      <td>Nueva Zelanda</td>\n",
       "      <td>1 de enero de 2010</td>\n",
       "      <td>0</td>\n",
       "    </tr>\n",
       "    <tr>\n",
       "      <th>46798</th>\n",
       "      <td>19 Melilla</td>\n",
       "      <td>52 Melilla</td>\n",
       "      <td>Resto de Nacionalidades de Oceanía</td>\n",
       "      <td>1 de enero de 2010</td>\n",
       "      <td>0</td>\n",
       "    </tr>\n",
       "    <tr>\n",
       "      <th>46799</th>\n",
       "      <td>19 Melilla</td>\n",
       "      <td>52 Melilla</td>\n",
       "      <td>Apátridas</td>\n",
       "      <td>1 de enero de 2010</td>\n",
       "      <td>1</td>\n",
       "    </tr>\n",
       "  </tbody>\n",
       "</table>\n",
       "<p>46800 rows × 5 columns</p>\n",
       "</div>"
      ],
      "text/plain": [
       "      Comunidades y Ciudades Autónomas  Provincias  \\\n",
       "0                                  NaN         NaN   \n",
       "1                                  NaN         NaN   \n",
       "2                                  NaN         NaN   \n",
       "3                                  NaN         NaN   \n",
       "4                                  NaN         NaN   \n",
       "...                                ...         ...   \n",
       "46795                       19 Melilla  52 Melilla   \n",
       "46796                       19 Melilla  52 Melilla   \n",
       "46797                       19 Melilla  52 Melilla   \n",
       "46798                       19 Melilla  52 Melilla   \n",
       "46799                       19 Melilla  52 Melilla   \n",
       "\n",
       "                     País de nacionalidad             Periodo      Total  \n",
       "0                              Extranjera  1 de enero de 2006  4.144.166  \n",
       "1                     Europa (sin España)  1 de enero de 2006  1.609.856  \n",
       "2                                Alemania  1 de enero de 2006    150.490  \n",
       "3                                 Austria  1 de enero de 2006      7.776  \n",
       "4                                 Bélgica  1 de enero de 2006     29.526  \n",
       "...                                   ...                 ...        ...  \n",
       "46795                          De Oceanía  1 de enero de 2010          0  \n",
       "46796                           Australia  1 de enero de 2010          0  \n",
       "46797                       Nueva Zelanda  1 de enero de 2010          0  \n",
       "46798  Resto de Nacionalidades de Oceanía  1 de enero de 2010          0  \n",
       "46799                           Apátridas  1 de enero de 2010          1  \n",
       "\n",
       "[46800 rows x 5 columns]"
      ]
     },
     "execution_count": 129,
     "metadata": {},
     "output_type": "execute_result"
    }
   ],
   "source": [
    "df_ext"
   ]
  },
  {
   "cell_type": "markdown",
   "id": "942b32b0",
   "metadata": {},
   "source": [
    "También vemos que igual que en el Dataset anterior las columnas 'Comunidades y Ciudades Autónomas', 'Provincias' y 'Periodo', tienen caracteres de mas en sus strings que no necesitamos. Procedemos a eliminarlos"
   ]
  },
  {
   "cell_type": "code",
   "execution_count": 130,
   "id": "42dc6491",
   "metadata": {},
   "outputs": [],
   "source": [
    "str_limpio_cyc2 = df_ext[\"Comunidades y Ciudades Autónomas\"].str[3:]\n",
    "str_limpio_prov2 = df_ext[\"Provincias\"].str[3:]\n",
    "str_limpio_periodo2 = df_ext[\"Periodo\"].str[14:]"
   ]
  },
  {
   "cell_type": "markdown",
   "id": "8c006fb1",
   "metadata": {},
   "source": [
    "Comprobamos que el str presenta la información que buscábamos"
   ]
  },
  {
   "cell_type": "code",
   "execution_count": 131,
   "id": "de67111f",
   "metadata": {},
   "outputs": [
    {
     "name": "stdout",
     "output_type": "stream",
     "text": [
      "0       País Vasco\n",
      "1       País Vasco\n",
      "2       País Vasco\n",
      "3       País Vasco\n",
      "4       País Vasco\n",
      "           ...    \n",
      "1795           NaN\n",
      "1796           NaN\n",
      "1797           NaN\n",
      "1798           NaN\n",
      "1799           NaN\n",
      "Name: Comunidades y Ciudades Autónomas, Length: 1800, dtype: object\n",
      "0       Araba/Álava\n",
      "1       Araba/Álava\n",
      "2       Araba/Álava\n",
      "3       Araba/Álava\n",
      "4       Araba/Álava\n",
      "           ...     \n",
      "1795            NaN\n",
      "1796            NaN\n",
      "1797            NaN\n",
      "1798            NaN\n",
      "1799            NaN\n",
      "Name: Provincias, Length: 1800, dtype: object\n",
      "0       2022\n",
      "1       2018\n",
      "2       2014\n",
      "3       2010\n",
      "4       2006\n",
      "        ... \n",
      "1795    2022\n",
      "1796    2018\n",
      "1797    2014\n",
      "1798    2010\n",
      "1799    2006\n",
      "Name: Periodo, Length: 1800, dtype: object\n"
     ]
    }
   ],
   "source": [
    "print(str_limpio_cyc)\n",
    "print(str_limpio_prov)\n",
    "print(str_limpio_periodo)"
   ]
  },
  {
   "cell_type": "markdown",
   "id": "dec42e31",
   "metadata": {},
   "source": [
    "Ahora que está toda la información útil, sobreescribimos las columnas necesarias"
   ]
  },
  {
   "cell_type": "code",
   "execution_count": 132,
   "id": "7af2ca53",
   "metadata": {},
   "outputs": [],
   "source": [
    "df_ext[\"Comunidades y Ciudades Autónomas\"] = df_ext[\"Comunidades y Ciudades Autónomas\"].str[3:]\n",
    "df_ext[\"Provincias\"] = df_ext[\"Provincias\"].str[3:]\n",
    "df_ext[\"Periodo\"] = df_ext[\"Periodo\"].str[14:]"
   ]
  },
  {
   "cell_type": "markdown",
   "id": "46bdc70e",
   "metadata": {},
   "source": [
    "* Corregir inconsistencias"
   ]
  },
  {
   "cell_type": "markdown",
   "id": "b50197bb",
   "metadata": {},
   "source": [
    "Al descargar la tabla, me llamó la atención que había muchos datos de América, tengo la sensación de que hay datos duplicados. Para ello voy a ver la lista de valores unicos de los paises, para ver si estoy en lo cierto"
   ]
  },
  {
   "cell_type": "code",
   "execution_count": 133,
   "id": "b062a849",
   "metadata": {},
   "outputs": [
    {
     "data": {
      "text/plain": [
       "array(['Extranjera', 'Europa (sin España)', 'Alemania', 'Austria',\n",
       "       'Bélgica', 'Bulgaria', 'Chipre', 'Croacia', 'Dinamarca',\n",
       "       'Eslovenia', 'Estonia', 'Finlandia', 'Francia', 'Grecia',\n",
       "       'Hungría', 'Irlanda', 'Italia', 'Letonia', 'Lituania',\n",
       "       'Luxemburgo', 'Malta', 'Países Bajos', 'Polonia', 'Portugal',\n",
       "       'República Checa', 'República Eslovaca', 'Rumanía', 'Suecia',\n",
       "       'Albania', 'Andorra', 'Armenia', 'Belarús', 'Bosnia y Herzegovina',\n",
       "       'Georgia', 'Islandia', 'Liechtenstein', 'Macedonia del Norte',\n",
       "       'Moldavia', 'Noruega', 'Reino Unido', 'Rusia', 'Serbia',\n",
       "       'Serbia y Montenegro', 'Suiza', 'Turquía', 'Ucrania',\n",
       "       'Resto de Nacionalidades Europeas', 'De Africa', 'Angola',\n",
       "       'Argelia', 'Benin', 'Burkina Faso', 'Cabo Verde', 'Camerún',\n",
       "       'Congo', 'Costa de Marfil', 'Egipto', 'Etiopía', 'Gambia', 'Ghana',\n",
       "       'Guinea', 'Guinea Ecuatorial', 'Guinea-Bissau', 'Kenia', 'Liberia',\n",
       "       'Mali', 'Marruecos', 'Mauritania', 'Nigeria',\n",
       "       'República Democrática del Congo', 'Senegal', 'Sierra Leona',\n",
       "       'Sudáfrica', 'Togo', 'Túnez', 'Resto de Nacionalidades Africanas',\n",
       "       'De América', 'De Centro América y Caribe', 'Costa Rica', 'Cuba',\n",
       "       'Dominica', 'El Salvador', 'Guatemala', 'Honduras', 'Nicaragua',\n",
       "       'Panamá', 'República Dominicana',\n",
       "       'Resto de Nacionalidades de América Central y Caribe',\n",
       "       'De América del Norte', 'Canadá', 'Estados Unidos de América',\n",
       "       'México', 'De Sudamérica', 'Argentina', 'Bolivia', 'Brasil',\n",
       "       'Chile', 'Colombia', 'Ecuador', 'Paraguay', 'Perú', 'Uruguay',\n",
       "       'Venezuela', 'Resto de Nacionalidades de América del Sur',\n",
       "       'De Asia', 'Arabia Saudí', 'Bangladesh', 'China', 'Corea',\n",
       "       'Filipinas', 'India', 'Indonesia', 'Irán', 'Iraq', 'Israel',\n",
       "       'Japón', 'Jordania', 'Kazajstán', 'Líbano', 'Nepal', 'Pakistán',\n",
       "       'Siria', 'Tailandia', 'Vietnam',\n",
       "       'Resto de Nacionalidades Asiáticas', 'De Oceanía', 'Australia',\n",
       "       'Nueva Zelanda', 'Resto de Nacionalidades de Oceanía', 'Apátridas'],\n",
       "      dtype=object)"
      ]
     },
     "execution_count": 133,
     "metadata": {},
     "output_type": "execute_result"
    }
   ],
   "source": [
    "df_ext['País de nacionalidad'].unique()"
   ]
  },
  {
   "cell_type": "markdown",
   "id": "5423b86b",
   "metadata": {},
   "source": [
    "Como había previsto, algunos datos vienen agrupados por regiones o continentes, lo que puede provocar que mi conjunto de datos esté menos organizado y genere problemas al realizar cálculos estadísticos, como obtener máximos, mínimos o totales, afectando la validez de mis hipótesis.\n",
    "\n",
    "En particular, no necesito incluir las filas correspondientes a las siguientes categorías agrupadas:\n",
    "'Europa (sin España)', 'De África', 'De América', 'De Centro América y Caribe', 'De América del Norte' y 'De Sudamérica'.\n",
    "\n",
    "Decido borrarlos"
   ]
  },
  {
   "cell_type": "code",
   "execution_count": 134,
   "id": "5fc71136",
   "metadata": {},
   "outputs": [],
   "source": [
    "categorias_a_eliminar = [\n",
    "    'Europa (sin España)',\n",
    "    'De África',\n",
    "    'De América',\n",
    "    'De Centro América y Caribe',\n",
    "    'De América del Norte',\n",
    "    'De Sudamérica'\n",
    "]\n",
    "\n",
    "df_ext = df_ext[~df_ext['País de nacionalidad'].isin(categorias_a_eliminar)]"
   ]
  },
  {
   "cell_type": "markdown",
   "id": "f7e494ae",
   "metadata": {},
   "source": [
    "* Tratamiento de Nans\n",
    "\n",
    "Mirando los datos, compruebo que los Nans existentes, al igual que en el anterior DataSet son totalizados de España que no pueden entrar en ninguna comunidad Autónoma ni Provincia, por lo que decido quedarmelos por si me fueran necesario en la resolución de las hipótesis planteadas"
   ]
  },
  {
   "cell_type": "markdown",
   "id": "3195b38f",
   "metadata": {},
   "source": [
    "## USO DE SELENIUM PARA LA DESCARGA DE DATOS"
   ]
  },
  {
   "cell_type": "markdown",
   "id": "fc8d0b82",
   "metadata": {},
   "source": [
    "He comprobado que la descarga de DataSets desde la web de INE es muy amigable e intuitiva, por eso, el tercer y último DataSet, lo descargaré con Selenium haciendo pasar mi computadora por persona. \n",
    "\n",
    "Vamos a hacer esta descarga de forma distinta para poder demostrar los conocimientos adquiridos en WebScraping "
   ]
  },
  {
   "cell_type": "code",
   "execution_count": 135,
   "id": "d59a55f6",
   "metadata": {},
   "outputs": [],
   "source": [
    "from selenium import webdriver\n",
    "from selenium.webdriver.common.by import By\n",
    "from selenium.webdriver.chrome.service import Service\n",
    "from webdriver_manager.chrome import ChromeDriverManager\n",
    "import time"
   ]
  },
  {
   "cell_type": "code",
   "execution_count": 136,
   "id": "8197249a",
   "metadata": {},
   "outputs": [],
   "source": [
    "\n",
    "service = Service(ChromeDriverManager().install())\n",
    "driver = webdriver.Chrome(service=service)\n",
    "\n",
    "url = \"https://www.ine.es/jaxiT3/Tabla.htm?t=24369\"\n",
    "driver.get(url)\n",
    "\n",
    "time.sleep(3)\n",
    "\n",
    "boton_descarga = driver.find_element(By.ID, \"btnDescarga\")\n",
    "boton_descarga.click()\n",
    "\n",
    "time.sleep(2)\n",
    "\n",
    "driver.switch_to.frame(\"thickBoxINEfrm\")\n",
    "\n",
    "time.sleep(3)\n",
    "\n",
    "csv_link = driver.find_element(By.CSS_SELECTOR, \"a.withLoader[title='CSV: separado por ;']\")\n",
    "csv_link.click()\n",
    "\n",
    "time.sleep(5)\n",
    "\n",
    "driver.quit()"
   ]
  },
  {
   "cell_type": "markdown",
   "id": "6cc3b2b1",
   "metadata": {},
   "source": [
    "Una vez realizada la descarga, proseguimos con la limpieza de los datos "
   ]
  },
  {
   "cell_type": "code",
   "execution_count": 137,
   "id": "d4aedda9",
   "metadata": {},
   "outputs": [],
   "source": [
    "df_mgr = pd.read_csv(\"./Datasets/24369.csv\", sep=\";\", encoding=\"utf-8-sig\")"
   ]
  },
  {
   "cell_type": "code",
   "execution_count": 138,
   "id": "1b8a5d0b",
   "metadata": {},
   "outputs": [
    {
     "name": "stdout",
     "output_type": "stream",
     "text": [
      "<class 'pandas.core.frame.DataFrame'>\n",
      "RangeIndex: 16800 entries, 0 to 16799\n",
      "Data columns (total 5 columns):\n",
      " #   Column                                       Non-Null Count  Dtype  \n",
      "---  ------                                       --------------  -----  \n",
      " 0   Sexo                                         16800 non-null  object \n",
      " 1   Comunidades y ciudades autónomas de destino  16800 non-null  object \n",
      " 2   Comunidades y ciudades autónomas de origen   16800 non-null  object \n",
      " 3   Periodo                                      16800 non-null  int64  \n",
      " 4   Total                                        15994 non-null  float64\n",
      "dtypes: float64(1), int64(1), object(3)\n",
      "memory usage: 656.4+ KB\n"
     ]
    },
    {
     "data": {
      "text/html": [
       "<div>\n",
       "<style scoped>\n",
       "    .dataframe tbody tr th:only-of-type {\n",
       "        vertical-align: middle;\n",
       "    }\n",
       "\n",
       "    .dataframe tbody tr th {\n",
       "        vertical-align: top;\n",
       "    }\n",
       "\n",
       "    .dataframe thead th {\n",
       "        text-align: right;\n",
       "    }\n",
       "</style>\n",
       "<table border=\"1\" class=\"dataframe\">\n",
       "  <thead>\n",
       "    <tr style=\"text-align: right;\">\n",
       "      <th></th>\n",
       "      <th>Sexo</th>\n",
       "      <th>Comunidades y ciudades autónomas de destino</th>\n",
       "      <th>Comunidades y ciudades autónomas de origen</th>\n",
       "      <th>Periodo</th>\n",
       "      <th>Total</th>\n",
       "    </tr>\n",
       "  </thead>\n",
       "  <tbody>\n",
       "    <tr>\n",
       "      <th>0</th>\n",
       "      <td>Ambos sexos</td>\n",
       "      <td>Total Nacional</td>\n",
       "      <td>Total Nacional</td>\n",
       "      <td>2021</td>\n",
       "      <td>367.848</td>\n",
       "    </tr>\n",
       "    <tr>\n",
       "      <th>1</th>\n",
       "      <td>Ambos sexos</td>\n",
       "      <td>Total Nacional</td>\n",
       "      <td>Total Nacional</td>\n",
       "      <td>2020</td>\n",
       "      <td>315.367</td>\n",
       "    </tr>\n",
       "    <tr>\n",
       "      <th>2</th>\n",
       "      <td>Ambos sexos</td>\n",
       "      <td>Total Nacional</td>\n",
       "      <td>Total Nacional</td>\n",
       "      <td>2019</td>\n",
       "      <td>364.366</td>\n",
       "    </tr>\n",
       "    <tr>\n",
       "      <th>3</th>\n",
       "      <td>Ambos sexos</td>\n",
       "      <td>Total Nacional</td>\n",
       "      <td>Total Nacional</td>\n",
       "      <td>2018</td>\n",
       "      <td>357.572</td>\n",
       "    </tr>\n",
       "    <tr>\n",
       "      <th>4</th>\n",
       "      <td>Ambos sexos</td>\n",
       "      <td>Total Nacional</td>\n",
       "      <td>Total Nacional</td>\n",
       "      <td>2017</td>\n",
       "      <td>342.465</td>\n",
       "    </tr>\n",
       "  </tbody>\n",
       "</table>\n",
       "</div>"
      ],
      "text/plain": [
       "          Sexo Comunidades y ciudades autónomas de destino  \\\n",
       "0  Ambos sexos                              Total Nacional   \n",
       "1  Ambos sexos                              Total Nacional   \n",
       "2  Ambos sexos                              Total Nacional   \n",
       "3  Ambos sexos                              Total Nacional   \n",
       "4  Ambos sexos                              Total Nacional   \n",
       "\n",
       "  Comunidades y ciudades autónomas de origen  Periodo    Total  \n",
       "0                             Total Nacional     2021  367.848  \n",
       "1                             Total Nacional     2020  315.367  \n",
       "2                             Total Nacional     2019  364.366  \n",
       "3                             Total Nacional     2018  357.572  \n",
       "4                             Total Nacional     2017  342.465  "
      ]
     },
     "execution_count": 138,
     "metadata": {},
     "output_type": "execute_result"
    }
   ],
   "source": [
    "df_mgr.info()\n",
    "df_mgr.head()"
   ]
  },
  {
   "cell_type": "markdown",
   "id": "785b4304",
   "metadata": {},
   "source": [
    "Igual que anteriormente, eliminamos las columnas que no nos aportan nueva información, en este caso 'Sexo'\n",
    "\n",
    "Además eliminamos los primeros caracteres de los str de Comunidades de destino y de origen"
   ]
  },
  {
   "cell_type": "code",
   "execution_count": 139,
   "id": "87d37a88",
   "metadata": {},
   "outputs": [],
   "source": [
    "df_mgr.drop(['Sexo'], axis= 1, inplace= True)"
   ]
  },
  {
   "cell_type": "code",
   "execution_count": 140,
   "id": "dc0b03f6",
   "metadata": {},
   "outputs": [],
   "source": [
    "str_limpio_cyc3 = df_mgr[\"Comunidades y ciudades autónomas de destino\"].str[3:]\n",
    "str_limpio_prov3 = df_mgr[\"Comunidades y ciudades autónomas de origen\"].str[3:]\n"
   ]
  },
  {
   "cell_type": "code",
   "execution_count": 141,
   "id": "4df17c45",
   "metadata": {},
   "outputs": [
    {
     "data": {
      "text/plain": [
       "0        al Nacional\n",
       "1        al Nacional\n",
       "2        al Nacional\n",
       "3        al Nacional\n",
       "4        al Nacional\n",
       "            ...     \n",
       "16795        Melilla\n",
       "16796        Melilla\n",
       "16797        Melilla\n",
       "16798        Melilla\n",
       "16799        Melilla\n",
       "Name: Comunidades y ciudades autónomas de origen, Length: 16800, dtype: object"
      ]
     },
     "execution_count": 141,
     "metadata": {},
     "output_type": "execute_result"
    }
   ],
   "source": [
    "str_limpio_cyc3\n",
    "str_limpio_prov3"
   ]
  },
  {
   "cell_type": "code",
   "execution_count": 144,
   "id": "2946d36e",
   "metadata": {},
   "outputs": [],
   "source": [
    "df_mgr[\"Comunidades y ciudades autónomas de destino\"] = str_limpio_cyc3\n",
    "df_mgr[\"Comunidades y ciudades autónomas de origen\"] = str_limpio_prov3\n"
   ]
  },
  {
   "cell_type": "code",
   "execution_count": 145,
   "id": "7e3fcde8",
   "metadata": {},
   "outputs": [
    {
     "data": {
      "text/html": [
       "<div>\n",
       "<style scoped>\n",
       "    .dataframe tbody tr th:only-of-type {\n",
       "        vertical-align: middle;\n",
       "    }\n",
       "\n",
       "    .dataframe tbody tr th {\n",
       "        vertical-align: top;\n",
       "    }\n",
       "\n",
       "    .dataframe thead th {\n",
       "        text-align: right;\n",
       "    }\n",
       "</style>\n",
       "<table border=\"1\" class=\"dataframe\">\n",
       "  <thead>\n",
       "    <tr style=\"text-align: right;\">\n",
       "      <th></th>\n",
       "      <th>Comunidades y ciudades autónomas de destino</th>\n",
       "      <th>Comunidades y ciudades autónomas de origen</th>\n",
       "      <th>Periodo</th>\n",
       "      <th>Total</th>\n",
       "    </tr>\n",
       "  </thead>\n",
       "  <tbody>\n",
       "    <tr>\n",
       "      <th>0</th>\n",
       "      <td>al Nacional</td>\n",
       "      <td>al Nacional</td>\n",
       "      <td>2021</td>\n",
       "      <td>367.848</td>\n",
       "    </tr>\n",
       "    <tr>\n",
       "      <th>1</th>\n",
       "      <td>al Nacional</td>\n",
       "      <td>al Nacional</td>\n",
       "      <td>2020</td>\n",
       "      <td>315.367</td>\n",
       "    </tr>\n",
       "    <tr>\n",
       "      <th>2</th>\n",
       "      <td>al Nacional</td>\n",
       "      <td>al Nacional</td>\n",
       "      <td>2019</td>\n",
       "      <td>364.366</td>\n",
       "    </tr>\n",
       "    <tr>\n",
       "      <th>3</th>\n",
       "      <td>al Nacional</td>\n",
       "      <td>al Nacional</td>\n",
       "      <td>2018</td>\n",
       "      <td>357.572</td>\n",
       "    </tr>\n",
       "    <tr>\n",
       "      <th>4</th>\n",
       "      <td>al Nacional</td>\n",
       "      <td>al Nacional</td>\n",
       "      <td>2017</td>\n",
       "      <td>342.465</td>\n",
       "    </tr>\n",
       "    <tr>\n",
       "      <th>...</th>\n",
       "      <td>...</td>\n",
       "      <td>...</td>\n",
       "      <td>...</td>\n",
       "      <td>...</td>\n",
       "    </tr>\n",
       "    <tr>\n",
       "      <th>16795</th>\n",
       "      <td>Melilla</td>\n",
       "      <td>Melilla</td>\n",
       "      <td>2012</td>\n",
       "      <td>NaN</td>\n",
       "    </tr>\n",
       "    <tr>\n",
       "      <th>16796</th>\n",
       "      <td>Melilla</td>\n",
       "      <td>Melilla</td>\n",
       "      <td>2011</td>\n",
       "      <td>NaN</td>\n",
       "    </tr>\n",
       "    <tr>\n",
       "      <th>16797</th>\n",
       "      <td>Melilla</td>\n",
       "      <td>Melilla</td>\n",
       "      <td>2010</td>\n",
       "      <td>NaN</td>\n",
       "    </tr>\n",
       "    <tr>\n",
       "      <th>16798</th>\n",
       "      <td>Melilla</td>\n",
       "      <td>Melilla</td>\n",
       "      <td>2009</td>\n",
       "      <td>NaN</td>\n",
       "    </tr>\n",
       "    <tr>\n",
       "      <th>16799</th>\n",
       "      <td>Melilla</td>\n",
       "      <td>Melilla</td>\n",
       "      <td>2008</td>\n",
       "      <td>NaN</td>\n",
       "    </tr>\n",
       "  </tbody>\n",
       "</table>\n",
       "<p>16800 rows × 4 columns</p>\n",
       "</div>"
      ],
      "text/plain": [
       "      Comunidades y ciudades autónomas de destino  \\\n",
       "0                                     al Nacional   \n",
       "1                                     al Nacional   \n",
       "2                                     al Nacional   \n",
       "3                                     al Nacional   \n",
       "4                                     al Nacional   \n",
       "...                                           ...   \n",
       "16795                                     Melilla   \n",
       "16796                                     Melilla   \n",
       "16797                                     Melilla   \n",
       "16798                                     Melilla   \n",
       "16799                                     Melilla   \n",
       "\n",
       "      Comunidades y ciudades autónomas de origen  Periodo    Total  \n",
       "0                                    al Nacional     2021  367.848  \n",
       "1                                    al Nacional     2020  315.367  \n",
       "2                                    al Nacional     2019  364.366  \n",
       "3                                    al Nacional     2018  357.572  \n",
       "4                                    al Nacional     2017  342.465  \n",
       "...                                          ...      ...      ...  \n",
       "16795                                    Melilla     2012      NaN  \n",
       "16796                                    Melilla     2011      NaN  \n",
       "16797                                    Melilla     2010      NaN  \n",
       "16798                                    Melilla     2009      NaN  \n",
       "16799                                    Melilla     2008      NaN  \n",
       "\n",
       "[16800 rows x 4 columns]"
      ]
     },
     "execution_count": 145,
     "metadata": {},
     "output_type": "execute_result"
    }
   ],
   "source": [
    "df_mgr"
   ]
  },
  {
   "cell_type": "code",
   "execution_count": 148,
   "id": "7bb50143",
   "metadata": {},
   "outputs": [
    {
     "name": "stdout",
     "output_type": "stream",
     "text": [
      "Index(['En España', 'En distinta Comunidad Autónoma', 'En el extranjero',\n",
      "       'Misma Comunidad Autónoma. Distinta Provincia',\n",
      "       'Misma Comunidad Autónoma. Misma Provincia.', 'Total'],\n",
      "      dtype='object', name='Relacion entre lugar de nacimiento y residencia')\n"
     ]
    }
   ],
   "source": [
    "print(pivot.columns)"
   ]
  },
  {
   "cell_type": "code",
   "execution_count": 172,
   "id": "3c00252e",
   "metadata": {},
   "outputs": [],
   "source": [
    "df['Total'] = pd.to_numeric(df['Total'], errors='coerce').fillna(0)\n",
    "df['Periodo'] = pd.to_numeric(df['Periodo'], errors='coerce').fillna(0).astype(int)"
   ]
  },
  {
   "cell_type": "code",
   "execution_count": 176,
   "id": "513488c7",
   "metadata": {},
   "outputs": [],
   "source": [
    "df['Relacion entre lugar de nacimiento y residencia'] = df['Relacion entre lugar de nacimiento y residencia'].str.strip()"
   ]
  },
  {
   "cell_type": "code",
   "execution_count": 180,
   "id": "9b73cb75",
   "metadata": {},
   "outputs": [
    {
     "name": "stdout",
     "output_type": "stream",
     "text": [
      "     Periodo         Provincia    % Local  % Migrantes Nacionales  \\\n",
      "2       2006  Alicante/Alacant   0.000000               49.869212   \n",
      "7       2006         Barcelona   0.000000               15.389889   \n",
      "10      2006             Cádiz   0.000000               75.534031   \n",
      "27      2006            Madrid   0.000000                0.000000   \n",
      "28      2006            Málaga   0.000000               50.481149   \n",
      "..       ...               ...        ...                     ...   \n",
      "217     2022           Cáceres  79.695208               15.052926   \n",
      "220     2022       Ciudad Real  79.861086               12.417737   \n",
      "213     2022           Badajoz  84.512370               11.139765   \n",
      "221     2022           Córdoba  85.402168               10.505991   \n",
      "230     2022              Jaén  86.440800                9.663156   \n",
      "\n",
      "     % Migrantes Extranjeros  \n",
      "2                  50.130788  \n",
      "7                  84.610111  \n",
      "10                 24.465969  \n",
      "27                100.000000  \n",
      "28                 49.518851  \n",
      "..                       ...  \n",
      "217                 5.251866  \n",
      "220                 7.721177  \n",
      "213                 4.347865  \n",
      "221                 4.091841  \n",
      "230                 3.896044  \n",
      "\n",
      "[260 rows x 5 columns]\n"
     ]
    }
   ],
   "source": [
    "\n",
    "\n",
    "provincias = [\n",
    "    'Araba/Álava', 'Albacete', 'Alicante/Alacant', 'Almería', 'Ávila',\n",
    "    'Badajoz', 'Balears, Illes', 'Barcelona', 'Burgos', 'Cáceres',\n",
    "    'Cádiz', 'Castellón/Castelló', 'Ciudad Real', 'Córdoba',\n",
    "    'Coruña, A', 'Cuenca', 'Girona', 'Granada', 'Guadalajara',\n",
    "    'Gipuzkoa', 'Huelva', 'Huesca', 'Jaén', 'León', 'Lleida',\n",
    "    'Rioja, La', 'Lugo', 'Madrid', 'Málaga', 'Murcia', 'Navarra',\n",
    "    'Ourense', 'Asturias', 'Palencia', 'Palmas, Las', 'Pontevedra',\n",
    "    'Salamanca', 'Santa Cruz de Tenerife', 'Cantabria', 'Segovia',\n",
    "    'Sevilla', 'Soria', 'Tarragona', 'Teruel', 'Toledo',\n",
    "    'Valencia/València', 'Valladolid', 'Bizkaia', 'Zamora', 'Zaragoza',\n",
    "    'Ceuta', 'Melilla'\n",
    "]\n",
    "\n",
    "df['Total'] = pd.to_numeric(df['Total'], errors='coerce').fillna(0)\n",
    "df['Periodo'] = pd.to_numeric(df['Periodo'], errors='coerce').fillna(0).astype(int)\n",
    "\n",
    "\n",
    "\n",
    "# Categorías necesarias\n",
    "cat_misma_prov = 'Misma Comunidad Autónoma. Misma Provincia.'\n",
    "cat_misma_dist = 'Misma Comunidad Autónoma. Distinta Provincia'\n",
    "cat_dist_com = 'En distinta Comunidad Autónoma'\n",
    "cat_extranjero = 'En el extranjero'\n",
    "\n",
    "resultados = []\n",
    "\n",
    "for anio in sorted(df['Periodo'].unique()):\n",
    "    for prov in provincias:\n",
    "        df_filtro = df[(df['Periodo'] == anio) & (df['Provincias'] == prov)]\n",
    "\n",
    "        val_misma_prov = df_filtro[df_filtro['Relacion entre lugar de nacimiento y residencia'] == cat_misma_prov]['Total'].sum()\n",
    "        val_misma_dist = df_filtro[df_filtro['Relacion entre lugar de nacimiento y residencia'] == cat_misma_dist]['Total'].sum()\n",
    "        val_dist_com = df_filtro[df_filtro['Relacion entre lugar de nacimiento y residencia'] == cat_dist_com]['Total'].sum()\n",
    "        val_extranjero = df_filtro[df_filtro['Relacion entre lugar de nacimiento y residencia'] == cat_extranjero]['Total'].sum()\n",
    "\n",
    "        denominador = val_misma_prov + val_misma_dist + val_dist_com + val_extranjero\n",
    "\n",
    "        if denominador == 0:\n",
    "            pct_local = 0\n",
    "            pct_migr_nac = 0\n",
    "            pct_migr_ext = 0\n",
    "        else:\n",
    "            pct_local = (val_misma_prov / denominador) * 100\n",
    "            pct_migr_nac = ((val_misma_dist + val_dist_com) / denominador) * 100\n",
    "            pct_migr_ext = (val_extranjero / denominador) * 100\n",
    "\n",
    "        resultados.append({\n",
    "            'Periodo': anio,\n",
    "            'Provincia': prov,\n",
    "            '% Local': pct_local,\n",
    "            '% Migrantes Nacionales': pct_migr_nac,\n",
    "            '% Migrantes Extranjeros': pct_migr_ext\n",
    "        })\n",
    "\n",
    "df_result = pd.DataFrame(resultados).sort_values(['Periodo', '% Local'])\n",
    "\n",
    "print(df_result)"
   ]
  },
  {
   "cell_type": "code",
   "execution_count": 175,
   "id": "e6fd8033",
   "metadata": {},
   "outputs": [
    {
     "name": "stdout",
     "output_type": "stream",
     "text": [
      "['En España' 'Misma Comunidad Autónoma. Misma Provincia.'\n",
      " 'Misma Comunidad Autónoma. Distinta Provincia'\n",
      " 'En distinta Comunidad Autónoma' 'En el extranjero']\n"
     ]
    }
   ],
   "source": [
    "print(df['Relacion entre lugar de nacimiento y residencia'].unique())"
   ]
  }
 ],
 "metadata": {
  "kernelspec": {
   "display_name": "Python 3",
   "language": "python",
   "name": "python3"
  },
  "language_info": {
   "codemirror_mode": {
    "name": "ipython",
    "version": 3
   },
   "file_extension": ".py",
   "mimetype": "text/x-python",
   "name": "python",
   "nbconvert_exporter": "python",
   "pygments_lexer": "ipython3",
   "version": "3.13.5"
  }
 },
 "nbformat": 4,
 "nbformat_minor": 5
}
