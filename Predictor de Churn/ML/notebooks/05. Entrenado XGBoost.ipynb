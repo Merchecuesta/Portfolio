{
 "cells": [
  {
   "cell_type": "code",
   "execution_count": 10,
   "id": "77020d90",
   "metadata": {},
   "outputs": [],
   "source": [
    "import pandas as pd\n",
    "import numpy as np\n",
    "from sklearn.metrics import classification_report, confusion_matrix, roc_auc_score\n",
    "from xgboost import XGBClassifier\n",
    "from sklearn.preprocessing import LabelEncoder\n",
    "from sklearn.model_selection import train_test_split, GridSearchCV\n",
    "import xgboost as xgb\n",
    "import os\n",
    "import joblib"
   ]
  },
  {
   "cell_type": "code",
   "execution_count": 6,
   "id": "9758b85c",
   "metadata": {},
   "outputs": [],
   "source": [
    "ruta_dataset = os.path.join(\"..\", \"data\", \"raw\", \"Telco_churn.csv\")\n",
    "df = pd.read_csv(ruta_dataset)"
   ]
  },
  {
   "cell_type": "code",
   "execution_count": 7,
   "id": "0b8c13e9",
   "metadata": {},
   "outputs": [
    {
     "name": "stdout",
     "output_type": "stream",
     "text": [
      "Classification Report:\n",
      "              precision    recall  f1-score   support\n",
      "\n",
      "           0       0.83      0.90      0.87      1033\n",
      "           1       0.65      0.51      0.57       374\n",
      "\n",
      "    accuracy                           0.80      1407\n",
      "   macro avg       0.74      0.70      0.72      1407\n",
      "weighted avg       0.79      0.80      0.79      1407\n",
      "\n",
      "Matriz de Confusión:\n",
      "[[931 102]\n",
      " [184 190]]\n",
      "ROC AUC Score: 0.8296897567440247\n"
     ]
    }
   ],
   "source": [
    "# Eliminar filas con TotalCharges vacías y convertir a numérico\n",
    "df['TotalCharges'] = pd.to_numeric(df['TotalCharges'], errors='coerce')\n",
    "df.dropna(subset=['TotalCharges'], inplace=True)\n",
    "\n",
    "# Convertir la variable objetivo a binaria\n",
    "df['Churn'] = df['Churn'].map({'Yes': 1, 'No': 0})\n",
    "\n",
    "# Eliminar columnas que no aportan o que son IDs\n",
    "df.drop(['customerID'], axis=1, inplace=True)\n",
    "\n",
    "# Codificar variables categóricas\n",
    "categorical_cols = df.select_dtypes(include='object').columns\n",
    "df = pd.get_dummies(df, columns=categorical_cols, drop_first=True)\n",
    "\n",
    "# Dividir en X (features) e y (target)\n",
    "X = df.drop('Churn', axis=1)\n",
    "y = df['Churn']\n",
    "\n",
    "# Dividir en train y test\n",
    "X_train, X_test, y_train, y_test = train_test_split(X, y, test_size=0.2, random_state=42)\n",
    "\n",
    "# Entrenar el modelo XGBoost\n",
    "xgb_model = XGBClassifier(\n",
    "    n_estimators=100,\n",
    "    learning_rate=0.1,\n",
    "    max_depth=5,\n",
    "    random_state=42,\n",
    "    eval_metric='logloss'\n",
    ")\n",
    "xgb_model.fit(X_train, y_train)\n",
    "\n",
    "# Predicciones\n",
    "y_pred = xgb_model.predict(X_test)\n",
    "y_prob = xgb_model.predict_proba(X_test)[:, 1]\n",
    "\n",
    "# Evaluación\n",
    "print(\"Classification Report:\")\n",
    "print(classification_report(y_test, y_pred))\n",
    "\n",
    "print(\"Matriz de Confusión:\")\n",
    "print(confusion_matrix(y_test, y_pred))\n",
    "\n",
    "print(\"ROC AUC Score:\", roc_auc_score(y_test, y_prob))"
   ]
  },
  {
   "cell_type": "markdown",
   "id": "0da7b842",
   "metadata": {},
   "source": [
    "Pruebo con GridSearch y clases balanceadas para mejorarlo"
   ]
  },
  {
   "cell_type": "code",
   "execution_count": 11,
   "id": "99a222e9",
   "metadata": {},
   "outputs": [
    {
     "name": "stdout",
     "output_type": "stream",
     "text": [
      "Fitting 3 folds for each of 16 candidates, totalling 48 fits\n",
      " Best Parameters: {'learning_rate': 0.01, 'max_depth': 3, 'n_estimators': 100, 'subsample': 0.8}\n",
      "\n",
      " Reporte de Clasificación:\n",
      "              precision    recall  f1-score   support\n",
      "\n",
      "           0       0.91      0.69      0.79      1552\n",
      "           1       0.49      0.82      0.61       561\n",
      "\n",
      "    accuracy                           0.73      2113\n",
      "   macro avg       0.70      0.76      0.70      2113\n",
      "weighted avg       0.80      0.73      0.74      2113\n",
      "\n",
      "\n",
      " Matriz de confusion:\n",
      "[[1075  477]\n",
      " [ 101  460]]\n",
      "\n",
      " ROC AUC Score: 0.8409653692779829\n"
     ]
    }
   ],
   "source": [
    "df = pd.read_csv(ruta_dataset)\n",
    "\n",
    "# Eliminar columnas irrelevantes y convertir target\n",
    "df.drop(\"customerID\", axis=1, inplace=True)\n",
    "df[\"Churn\"] = df[\"Churn\"].map({\"Yes\": 1, \"No\": 0})\n",
    "\n",
    "# Convertir variables categóricas a dummies\n",
    "df = pd.get_dummies(df)\n",
    "\n",
    "# Separar variables predictoras y variable objetivo\n",
    "X = df.drop(\"Churn\", axis=1)\n",
    "y = df[\"Churn\"]\n",
    "\n",
    "# Dividir en entrenamiento y test\n",
    "X_train, X_test, y_train, y_test = train_test_split(X, y, test_size=0.3, random_state=42, stratify=y)\n",
    "\n",
    "# Calcular el ratio para balanceo de clases\n",
    "scale_pos_weight = np.sum(y_train == 0) / np.sum(y_train == 1)\n",
    "\n",
    "# Modelo base XGBoost\n",
    "xgb_clf = xgb.XGBClassifier(\n",
    "    objective='binary:logistic',\n",
    "    eval_metric='logloss',\n",
    "    scale_pos_weight=scale_pos_weight,\n",
    "    random_state=42\n",
    ")\n",
    "\n",
    "# Parámetros para Grid Search\n",
    "param_grid = {\n",
    "    'max_depth': [3, 5],\n",
    "    'learning_rate': [0.1, 0.01],\n",
    "    'n_estimators': [100, 200],\n",
    "    'subsample': [0.8, 1.0]\n",
    "}\n",
    "\n",
    "# GridSearchCV\n",
    "grid_search = GridSearchCV(\n",
    "    estimator=xgb_clf,\n",
    "    param_grid=param_grid,\n",
    "    scoring='recall',\n",
    "    cv=3,\n",
    "    verbose=1,\n",
    "    n_jobs=-1\n",
    ")\n",
    "\n",
    "# Entrenar\n",
    "grid_search.fit(X_train, y_train)\n",
    "\n",
    "# Predicciones\n",
    "best_model = grid_search.best_estimator_\n",
    "y_pred = best_model.predict(X_test)\n",
    "y_proba = best_model.predict_proba(X_test)[:, 1]\n",
    "\n",
    "# Resultados\n",
    "print(\" Best Parameters:\", grid_search.best_params_)\n",
    "print(\"\\n Reporte de Clasificación:\")\n",
    "print(classification_report(y_test, y_pred))\n",
    "print(\"\\n Matriz de confusion:\")\n",
    "print(confusion_matrix(y_test, y_pred))\n",
    "print(\"\\n ROC AUC Score:\", roc_auc_score(y_test, y_proba))"
   ]
  },
  {
   "cell_type": "code",
   "execution_count": 12,
   "id": "6a565bbd",
   "metadata": {},
   "outputs": [
    {
     "data": {
      "text/plain": [
       "['C:\\\\Users\\\\Merche\\\\REPOSITORIO_MI_PORTFOLIO\\\\Predictor de Churn\\\\ML\\\\models\\\\modelo_XGBoost.joblib']"
      ]
     },
     "execution_count": 12,
     "metadata": {},
     "output_type": "execute_result"
    }
   ],
   "source": [
    "ruta_modelo = r\"C:\\Users\\Merche\\REPOSITORIO_MI_PORTFOLIO\\Predictor de Churn\\ML\\models\\modelo_XGBoost.joblib\"\n",
    "joblib.dump(best_model, ruta_modelo)"
   ]
  },
  {
   "cell_type": "markdown",
   "id": "1b6cd964",
   "metadata": {},
   "source": [
    "El modelo ha mejorado. Voy a mirar la importancia de cada variable por si consigo que mejore mas"
   ]
  },
  {
   "cell_type": "code",
   "execution_count": null,
   "id": "2aaae624",
   "metadata": {},
   "outputs": [
    {
     "name": "stdout",
     "output_type": "stream",
     "text": [
      "                                    Feature  Importance\n",
      "35                  Contract_Month-to-month    0.540802\n",
      "15              InternetService_Fiber optic    0.075994\n",
      "26                           TechSupport_No    0.058568\n",
      "17                        OnlineSecurity_No    0.048403\n",
      "42           PaymentMethod_Electronic check    0.038236\n",
      "37                        Contract_Two year    0.024415\n",
      "34                      StreamingMovies_Yes    0.024098\n",
      "36                        Contract_One year    0.023268\n",
      "16                       InternetService_No    0.022773\n",
      "38                      PaperlessBilling_No    0.016876\n",
      "1                                    tenure    0.016455\n",
      "2                            MonthlyCharges    0.010449\n",
      "20                          OnlineBackup_No    0.010146\n",
      "3                             gender_Female    0.008874\n",
      "11                         MultipleLines_No    0.007884\n",
      "7                             Dependents_No    0.007423\n",
      "29                           StreamingTV_No    0.007093\n",
      "43               PaymentMethod_Mailed check    0.005423\n",
      "14                      InternetService_DSL    0.005179\n",
      "28                          TechSupport_Yes    0.005003\n",
      "40  PaymentMethod_Bank transfer (automatic)    0.004808\n"
     ]
    }
   ],
   "source": [
    "# Obtener importancia de características del modelo final\n",
    "importances = best_model.feature_importances_\n",
    "features = X_train.columns\n",
    "\n",
    "# Crear DataFrame ordenado\n",
    "feature_importance_df = pd.DataFrame({\n",
    "    'Feature': features,\n",
    "    'Importance': importances\n",
    "}).sort_values(by='Importance', ascending=False)\n",
    "\n",
    "print(feature_importance_df.head(21))"
   ]
  },
  {
   "cell_type": "code",
   "execution_count": null,
   "id": "ce547ff3",
   "metadata": {},
   "outputs": [
    {
     "name": "stdout",
     "output_type": "stream",
     "text": [
      "                                  Feature  Importance\n",
      "0                          MonthlyCharges       631.0\n",
      "1                            TotalCharges       398.0\n",
      "2                                  tenure       346.0\n",
      "3          PaymentMethod_Electronic check        89.0\n",
      "4                      OnlineSecurity_Yes        78.0\n",
      "5                             gender_Male        69.0\n",
      "6                    PaperlessBilling_Yes        65.0\n",
      "7                       Contract_Two year        50.0\n",
      "8                     StreamingMovies_Yes        50.0\n",
      "9                           SeniorCitizen        50.0\n",
      "10                        TechSupport_Yes        50.0\n",
      "11  PaymentMethod_Credit card (automatic)        47.0\n",
      "12                      Contract_One year        45.0\n",
      "13                       PhoneService_Yes        42.0\n",
      "14                            Partner_Yes        36.0\n",
      "15                         Dependents_Yes        36.0\n",
      "16                        StreamingTV_Yes        33.0\n",
      "17                      MultipleLines_Yes        30.0\n",
      "18                       OnlineBackup_Yes        30.0\n",
      "19                   DeviceProtection_Yes        27.0\n",
      "20             PaymentMethod_Mailed check        23.0\n",
      "21            InternetService_Fiber optic        16.0\n",
      "22                     InternetService_No        15.0\n"
     ]
    }
   ],
   "source": [
    "# Obtener la importancia de características en formato dict\n",
    "importance_dict = xgb_model.get_booster().get_score(importance_type='weight')\n",
    "\n",
    "# Convertir a DataFrame para ordenarlo y verlo más fácil\n",
    "importance_df = pd.DataFrame(list(importance_dict.items()), columns=['Feature', 'Importance'])\n",
    "\n",
    "# Ordenar de mayor a menor importancia\n",
    "importance_df = importance_df.sort_values(by='Importance', ascending=False).reset_index(drop=True)\n",
    "\n",
    "print(importance_df)"
   ]
  },
  {
   "cell_type": "code",
   "execution_count": null,
   "id": "bf26b565",
   "metadata": {},
   "outputs": [
    {
     "data": {
      "text/plain": [
       "{'InternetService_Fiber optic': 123.69844818115234,\n",
       " 'Contract_Two year': 49.460548400878906,\n",
       " 'Contract_One year': 34.622589111328125,\n",
       " 'InternetService_No': 15.434347152709961,\n",
       " 'tenure': 9.430861473083496,\n",
       " 'StreamingMovies_Yes': 6.667798042297363,\n",
       " 'TechSupport_Yes': 4.163204193115234,\n",
       " 'OnlineSecurity_Yes': 3.843449592590332,\n",
       " 'PaymentMethod_Electronic check': 3.8424930572509766,\n",
       " 'MultipleLines_Yes': 3.4845619201660156,\n",
       " 'StreamingTV_Yes': 3.461530923843384,\n",
       " 'PaperlessBilling_Yes': 3.3694989681243896,\n",
       " 'SeniorCitizen': 3.1292738914489746,\n",
       " 'PhoneService_Yes': 3.0361385345458984,\n",
       " 'TotalCharges': 2.7324793338775635,\n",
       " 'PaymentMethod_Mailed check': 2.655231475830078,\n",
       " 'MonthlyCharges': 2.651841640472412,\n",
       " 'OnlineBackup_Yes': 2.630007266998291,\n",
       " 'Dependents_Yes': 2.3971357345581055,\n",
       " 'gender_Male': 2.1613852977752686,\n",
       " 'PaymentMethod_Credit card (automatic)': 2.056190252304077,\n",
       " 'Partner_Yes': 1.9514861106872559,\n",
       " 'DeviceProtection_Yes': 1.8693760633468628}"
      ]
     },
     "execution_count": 22,
     "metadata": {},
     "output_type": "execute_result"
    }
   ],
   "source": [
    "importance_dict = xgb_model.get_booster().get_score(importance_type='gain')\n",
    "importance_sorted = dict(sorted(importance_dict.items(), key=lambda item: item[1], reverse=True))\n",
    "importance_sorted"
   ]
  },
  {
   "cell_type": "code",
   "execution_count": null,
   "id": "32271db0",
   "metadata": {},
   "outputs": [
    {
     "name": "stdout",
     "output_type": "stream",
     "text": [
      "InternetService_Fiber optic: 42.84%\n",
      "Contract_Two year: 17.13%\n",
      "Contract_One year: 11.99%\n",
      "InternetService_No: 5.35%\n",
      "tenure: 3.27%\n",
      "StreamingMovies_Yes: 2.31%\n",
      "TechSupport_Yes: 1.44%\n",
      "OnlineSecurity_Yes: 1.33%\n",
      "PaymentMethod_Electronic check: 1.33%\n",
      "MultipleLines_Yes: 1.21%\n",
      "StreamingTV_Yes: 1.20%\n",
      "PaperlessBilling_Yes: 1.17%\n",
      "SeniorCitizen: 1.08%\n",
      "PhoneService_Yes: 1.05%\n",
      "TotalCharges: 0.95%\n",
      "PaymentMethod_Mailed check: 0.92%\n",
      "MonthlyCharges: 0.92%\n",
      "OnlineBackup_Yes: 0.91%\n",
      "Dependents_Yes: 0.83%\n",
      "gender_Male: 0.75%\n",
      "PaymentMethod_Credit card (automatic): 0.71%\n",
      "Partner_Yes: 0.68%\n",
      "DeviceProtection_Yes: 0.65%\n"
     ]
    }
   ],
   "source": [
    "importance_dict = {\n",
    "    'InternetService_Fiber optic': 123.69844818115234,\n",
    "    'Contract_Two year': 49.460548400878906,\n",
    "    'Contract_One year': 34.622589111328125,\n",
    "    'InternetService_No': 15.434347152709961,\n",
    "    'tenure': 9.430861473083496,\n",
    "    'StreamingMovies_Yes': 6.667798042297363,\n",
    "    'TechSupport_Yes': 4.163204193115234,\n",
    "    'OnlineSecurity_Yes': 3.843449592590332,\n",
    "    'PaymentMethod_Electronic check': 3.8424930572509766,\n",
    "    'MultipleLines_Yes': 3.4845619201660156,\n",
    "    'StreamingTV_Yes': 3.461530923843384,\n",
    "    'PaperlessBilling_Yes': 3.3694989681243896,\n",
    "    'SeniorCitizen': 3.1292738914489746,\n",
    "    'PhoneService_Yes': 3.0361385345458984,\n",
    "    'TotalCharges': 2.7324793338775635,\n",
    "    'PaymentMethod_Mailed check': 2.655231475830078,\n",
    "    'MonthlyCharges': 2.651841640472412,\n",
    "    'OnlineBackup_Yes': 2.630007266998291,\n",
    "    'Dependents_Yes': 2.3971357345581055,\n",
    "    'gender_Male': 2.1613852977752686,\n",
    "    'PaymentMethod_Credit card (automatic)': 2.056190252304077,\n",
    "    'Partner_Yes': 1.9514861106872559,\n",
    "    'DeviceProtection_Yes': 1.8693760633468628\n",
    "}\n",
    "\n",
    "# Suma total de las importancias\n",
    "total_gain = sum(importance_dict.values())\n",
    "\n",
    "# Convertir a porcentaje\n",
    "importance_percent = {k: (v / total_gain) * 100 for k, v in importance_dict.items()}\n",
    "\n",
    "# Ordenar de mayor a menor\n",
    "importance_percent_sorted = dict(sorted(importance_percent.items(), key=lambda item: item[1], reverse=True))\n",
    "\n",
    "for feature, percent in importance_percent_sorted.items():\n",
    "    print(f\"{feature}: {percent:.2f}%\")"
   ]
  },
  {
   "cell_type": "markdown",
   "id": "97e2db60",
   "metadata": {},
   "source": [
    "Para ver si mejora el modelo, decido quitar las features menos relevantes para el entreno"
   ]
  },
  {
   "cell_type": "code",
   "execution_count": null,
   "id": "2f72f5d1",
   "metadata": {},
   "outputs": [
    {
     "name": "stdout",
     "output_type": "stream",
     "text": [
      "Fitting 3 folds for each of 16 candidates, totalling 48 fits\n"
     ]
    },
    {
     "name": "stderr",
     "output_type": "stream",
     "text": [
      "c:\\Users\\fuent\\AppData\\Local\\Programs\\Python\\Python313\\Lib\\site-packages\\xgboost\\training.py:183: UserWarning: [21:32:08] WARNING: C:\\actions-runner\\_work\\xgboost\\xgboost\\src\\learner.cc:738: \n",
      "Parameters: { \"use_label_encoder\" } are not used.\n",
      "\n",
      "  bst.update(dtrain, iteration=i, fobj=obj)\n"
     ]
    },
    {
     "name": "stdout",
     "output_type": "stream",
     "text": [
      "Best Parameters: {'learning_rate': 0.01, 'max_depth': 3, 'n_estimators': 100, 'subsample': 1.0}\n",
      "\n",
      "Reporte de Clasificación:\n",
      "              precision    recall  f1-score   support\n",
      "\n",
      "           0       0.91      0.70      0.79      1552\n",
      "           1       0.50      0.82      0.62       561\n",
      "\n",
      "    accuracy                           0.73      2113\n",
      "   macro avg       0.70      0.76      0.70      2113\n",
      "weighted avg       0.80      0.73      0.75      2113\n",
      "\n",
      "\n",
      "Matriz de Confusión:\n",
      "[[1085  467]\n",
      " [ 102  459]]\n",
      "\n",
      "ROC AUC Score: 0.8373836530863518\n"
     ]
    }
   ],
   "source": [
    "# Cargar el dataset (ajusta la ruta si es necesario)\n",
    "df = pd.read_csv(ruta_dataset)\n",
    "\n",
    "# Eliminar columnas irrelevantes y convertir target\n",
    "df.drop(\"customerID\", axis=1, inplace=True)\n",
    "df[\"Churn\"] = df[\"Churn\"].map({\"Yes\": 1, \"No\": 0})\n",
    "\n",
    "# Convertir variables categóricas a dummies\n",
    "df = pd.get_dummies(df)\n",
    "\n",
    "# Columnas a eliminar (baja importancia)\n",
    "cols_to_drop = [\n",
    "    'PaymentMethod_Credit card (automatic)',\n",
    "    'Partner_Yes',\n",
    "    'DeviceProtection_Yes',\n",
    "    'gender_Male',\n",
    "    'Dependents_Yes',\n",
    "    'OnlineBackup_Yes',\n",
    "    'MonthlyCharges',\n",
    "    'PaymentMethod_Mailed check',\n",
    "    'TotalCharges',\n",
    "    'PhoneService_Yes'\n",
    "]\n",
    "\n",
    "# Eliminar esas columnas si existen en el dataframe\n",
    "df = df.drop(columns=[col for col in cols_to_drop if col in df.columns])\n",
    "\n",
    "# Separar variables predictoras y variable objetivo\n",
    "X = df.drop(\"Churn\", axis=1)\n",
    "y = df[\"Churn\"]\n",
    "\n",
    "# Dividir en entrenamiento y test\n",
    "X_train, X_test, y_train, y_test = train_test_split(\n",
    "    X, y, test_size=0.3, random_state=42, stratify=y\n",
    ")\n",
    "\n",
    "# Calcular el ratio para balanceo de clases\n",
    "scale_pos_weight = np.sum(y_train == 0) / np.sum(y_train == 1)\n",
    "\n",
    "# Modelo base XGBoost\n",
    "xgb_clf = xgb.XGBClassifier(\n",
    "    objective='binary:logistic',\n",
    "    eval_metric='logloss',\n",
    "    scale_pos_weight=scale_pos_weight,\n",
    "    random_state=42,\n",
    "    use_label_encoder=False\n",
    ")\n",
    "\n",
    "# Parámetros para Grid Search\n",
    "param_grid = {\n",
    "    'max_depth': [3, 5],\n",
    "    'learning_rate': [0.1, 0.01],\n",
    "    'n_estimators': [100, 200],\n",
    "    'subsample': [0.8, 1.0]\n",
    "}\n",
    "\n",
    "# GridSearchCV\n",
    "grid_search = GridSearchCV(\n",
    "    estimator=xgb_clf,\n",
    "    param_grid=param_grid,\n",
    "    scoring='recall',\n",
    "    cv=3,\n",
    "    verbose=1,\n",
    "    n_jobs=-1\n",
    ")\n",
    "\n",
    "# Entrenar\n",
    "grid_search.fit(X_train, y_train)\n",
    "\n",
    "# Predicciones\n",
    "best_model = grid_search.best_estimator_\n",
    "y_pred = best_model.predict(X_test)\n",
    "y_proba = best_model.predict_proba(X_test)[:, 1]\n",
    "\n",
    "# Resultados\n",
    "print(\"Best Parameters:\", grid_search.best_params_)\n",
    "print(\"\\nReporte de Clasificación:\")\n",
    "print(classification_report(y_test, y_pred))\n",
    "print(\"\\nMatriz de Confusión:\")\n",
    "print(confusion_matrix(y_test, y_pred))\n",
    "print(\"\\nROC AUC Score:\", roc_auc_score(y_test, y_proba))"
   ]
  },
  {
   "cell_type": "markdown",
   "id": "5ee587bf",
   "metadata": {},
   "source": [
    "Ha empeorado, me quedo con la metrica del modelo anterior"
   ]
  }
 ],
 "metadata": {
  "kernelspec": {
   "display_name": "Python 3",
   "language": "python",
   "name": "python3"
  },
  "language_info": {
   "codemirror_mode": {
    "name": "ipython",
    "version": 3
   },
   "file_extension": ".py",
   "mimetype": "text/x-python",
   "name": "python",
   "nbconvert_exporter": "python",
   "pygments_lexer": "ipython3",
   "version": "3.13.5"
  }
 },
 "nbformat": 4,
 "nbformat_minor": 5
}
